{
  "nbformat": 4,
  "nbformat_minor": 0,
  "metadata": {
    "colab": {
      "provenance": [],
      "authorship_tag": "ABX9TyMZ/OhwPEgHwlKNRx9rH3am",
      "include_colab_link": true
    },
    "kernelspec": {
      "name": "python3",
      "display_name": "Python 3"
    },
    "language_info": {
      "name": "python"
    }
  },
  "cells": [
    {
      "cell_type": "markdown",
      "metadata": {
        "id": "view-in-github",
        "colab_type": "text"
      },
      "source": [
        "<a href=\"https://colab.research.google.com/github/Jorge-LGH/Learn_Python/blob/main/String.ipynb\" target=\"_parent\"><img src=\"https://colab.research.google.com/assets/colab-badge.svg\" alt=\"Open In Colab\"/></a>"
      ]
    },
    {
      "cell_type": "markdown",
      "source": [
        "# Strings\n",
        "\n",
        "Los datos de tipo string son de uso constante y común en cualquier área de programación con Python. Dicho de manera sencilla, son datos literales que tienen al inicio y al final comillas dobles (**\" \"**) o sencillas (**' '**). Estas comillas actúan como delimitadores para denotar qué conforma parte de nuestro dato clase string y qué no.\n",
        "\n",
        "Los strings, abreviados str, pueden contener tantos caracteres como uno desee; el límite es la memoria y capacidad de procesamiento de nuestra computadora. Dentro de este aspecto cabe recalcar que podemos generar datos de este tipo que estén vacíos, no solo que tengan un espacio, sino, que realmente estén vacíos. Los caracteres que contengan dentro de nuestro dato string pueden ser caracteres básicos, especiales o incluso números"
      ],
      "metadata": {
        "id": "YQ0sSkDk7v1t"
      }
    },
    {
      "cell_type": "markdown",
      "source": [
        "## Cómo crear un string\n",
        "\n",
        "Para generar un objeto de tipo string, o simplemente usar uno de estos datos, es necesario aprender la sintaxis adecuada, pues podemos incluir renglones y caracteres especiales dentro de dichos datos. En este caso vamos a generar un dato tipo str con caracteres normales, uno vació y uno con caracteres especiales."
      ],
      "metadata": {
        "id": "S3iytudA7zSD"
      }
    },
    {
      "cell_type": "code",
      "execution_count": null,
      "metadata": {
        "colab": {
          "base_uri": "https://localhost:8080/",
          "height": 35
        },
        "id": "c5KrIoDQ7mcJ",
        "outputId": "56081afe-97be-4f8d-8dac-6fd97c611449"
      },
      "outputs": [
        {
          "output_type": "execute_result",
          "data": {
            "text/plain": [
              "'Este es nuestro primer dato de tipo str'"
            ],
            "application/vnd.google.colaboratory.intrinsic+json": {
              "type": "string"
            }
          },
          "metadata": {},
          "execution_count": 3
        }
      ],
      "source": [
        "# Crear un dato string con caracteres básicos\n",
        "\n",
        "\"Este es nuestro primer dato de tipo str\""
      ]
    },
    {
      "cell_type": "code",
      "source": [
        "# Crear un string vacío\n",
        "\n",
        "\"\""
      ],
      "metadata": {
        "colab": {
          "base_uri": "https://localhost:8080/",
          "height": 35
        },
        "id": "Pna2jeiX78z8",
        "outputId": "e16df1c3-5733-4c92-d9a1-0fc3c42b2925"
      },
      "execution_count": null,
      "outputs": [
        {
          "output_type": "execute_result",
          "data": {
            "text/plain": [
              "''"
            ],
            "application/vnd.google.colaboratory.intrinsic+json": {
              "type": "string"
            }
          },
          "metadata": {},
          "execution_count": 4
        }
      ]
    },
    {
      "cell_type": "code",
      "source": [
        "# String con caracteres especiales\n",
        "\n",
        "\"Esto es un caracter especial: \\\" (nos referimos a las comillas en medio del string)\""
      ],
      "metadata": {
        "colab": {
          "base_uri": "https://localhost:8080/",
          "height": 35
        },
        "id": "Ils30VxR798y",
        "outputId": "b57ffb63-d340-4e87-c55b-b407d33ed8b1"
      },
      "execution_count": null,
      "outputs": [
        {
          "output_type": "execute_result",
          "data": {
            "text/plain": [
              "'Esto es un caracter especial: \" (nos referimos a las comillas en medio del string)'"
            ],
            "application/vnd.google.colaboratory.intrinsic+json": {
              "type": "string"
            }
          },
          "metadata": {},
          "execution_count": 5
        }
      ]
    },
    {
      "cell_type": "markdown",
      "source": [
        "## Strings de múltiples líneas\n",
        "\n",
        "También es posible generar strings de múltiples líneas a través de las comillas y apóstrofes, solo que en este caso se usan tres al inicio y tres al final. Este tipo de string se utiliza en muchas ocasiones para documentar código que vamos desarrollando, de modo que tiene explicaciones concretas."
      ],
      "metadata": {
        "id": "NAY9kmhH8DY9"
      }
    },
    {
      "cell_type": "code",
      "source": [
        "# String de múltiples líneas\n",
        "\n",
        "print(\"\"\"\n",
        "Esto es un string\n",
        "Pero tiene varias líneas\n",
        "Cuando lo imprimes se puede ver\n",
        "\"\"\")\n"
      ],
      "metadata": {
        "colab": {
          "base_uri": "https://localhost:8080/"
        },
        "id": "WUtCwabJ8GSe",
        "outputId": "5bfcdc98-02c9-4e4e-865a-ca6e61db644c"
      },
      "execution_count": null,
      "outputs": [
        {
          "output_type": "stream",
          "name": "stdout",
          "text": [
            "\n",
            "Esto es un string\n",
            "Pero tiene varias líneas\n",
            "Cuando lo imprimes se puede ver\n",
            "\n"
          ]
        }
      ]
    },
    {
      "cell_type": "markdown",
      "source": [
        "Antes de continuar, ¿por qué consideramos las comillas dentro del string como un caracter especial? Pues senciallemnete porque sin la sintaxis adecuada, esas comillas en medio del string delimitarían el final de nuestro dato y no se podría ver aquello que viene dentro de los paréntesis."
      ],
      "metadata": {
        "id": "q9NNscCD8I0c"
      }
    },
    {
      "cell_type": "markdown",
      "source": [
        "## Sintaxis especial\n",
        "\n",
        "Para poder escribir caracteres como las comillas dentro de nuestros str o incluso para generar nuevos renglones, existen reglas que debemos de tener en cuenta pra poder realizar las tareas que nos interesen. A continuación hay una tabla que sintetiza algunas opciones de sintaxis para organizar la información dentro del str.\n",
        "\n",
        "|   Sintaxis   |                         Interpretación                          |\n",
        "|:------------:|:--------------------------------------------------------------:|\n",
        "|     \\\\'       | Permite considerar la comilla simple como parte del string, haciendo que **NO** delimite el string |\n",
        "|     \\\\\"       | Permite considerar la comilla doble como parte del string, haciendo que **NO** delimite el string  |\n",
        "|     \\\\\\\\      |                 Permite observar un backslash en el string      |\n",
        "|   \"a\\\\nb\"    |        Permite que el texto \"b\" esté en una nueva línea (diferente renglón)     |\n",
        "\n",
        "Podemos ver un ejemplo combinando esta sintaxis. Cabe aclarar que algunos usos de esta sintaxis solo son visibles al momento de imprimir nuestro dato, esto se hace mediante la función `print()`."
      ],
      "metadata": {
        "id": "Pumw56WK8Jlq"
      }
    },
    {
      "cell_type": "code",
      "source": [
        "# String sintaxis demostración\n",
        "\n",
        "print(\"Esta demostración sintaxis.\\nPodemos ver un nuevo renglón.\\nAhora veremos comillas simples y dobles \\' \\\"\\nAhora un backslash\\\\\")"
      ],
      "metadata": {
        "colab": {
          "base_uri": "https://localhost:8080/"
        },
        "id": "hH2RWOakPzza",
        "outputId": "680a9b83-5ed2-46df-ccb1-b79021c93e5a"
      },
      "execution_count": null,
      "outputs": [
        {
          "output_type": "stream",
          "name": "stdout",
          "text": [
            "Esta demostración sintaxis.\n",
            "Podemos ver un nuevo renglón.\n",
            "Ahora veremos comillas simples y dobles ' \"\n",
            "Ahora un backslash\\\n"
          ]
        }
      ]
    },
    {
      "cell_type": "markdown",
      "source": [
        "## Manipulación de strings\n",
        "\n",
        "Al igual que otros tipos de datos, podemos manipular strings existentes para poder dividir, agregar o crear nuevos strings, según sea la necesidad en el momento. Es por esto que se presentan las siguientes manipulaciones básicas con distintos métodos que vienen integrados en python."
      ],
      "metadata": {
        "id": "_U4z-hZ0P3S2"
      }
    },
    {
      "cell_type": "markdown",
      "source": [
        "### `.split()`\n",
        "\n",
        "El método split sencillamente genera la separación del string quen deseamos, puede ser la separación en cada espacio en blanco o podemos definir en qué punto se realiza la separación. Nos regresa un objeto tipo lista con cada pedazo del string que generamos."
      ],
      "metadata": {
        "id": "zQgIR5QDP5Y9"
      }
    },
    {
      "cell_type": "code",
      "source": [
        "# uso de split para dividir un string\n",
        "\n",
        "str1 = \"I'm a test string\"\n",
        "\n",
        "print(str1.split())"
      ],
      "metadata": {
        "colab": {
          "base_uri": "https://localhost:8080/"
        },
        "id": "2JibVRxuP7iP",
        "outputId": "80a92d0f-05f0-459a-c6a4-b6445fcb5858"
      },
      "execution_count": null,
      "outputs": [
        {
          "output_type": "stream",
          "name": "stdout",
          "text": [
            "[\"I'm\", 'a', 'test', 'string']\n"
          ]
        }
      ]
    },
    {
      "cell_type": "markdown",
      "source": [
        "### `.join()`\n",
        "\n",
        "Este método une los elementos de un objeto iterable (como listas) y genera un string con dichos elementos. Es importante señalar que debemos de marcar el caracter con el cual serán unidos los elementos."
      ],
      "metadata": {
        "id": "x1ChqG-WQA0Q"
      }
    },
    {
      "cell_type": "code",
      "source": [
        "# Unir caracteres en un string\n",
        "\n",
        "list1 = [\"This\",\"is\",\"a\",\"test\"]\n",
        "\n",
        "print(\" \".join(list1))"
      ],
      "metadata": {
        "colab": {
          "base_uri": "https://localhost:8080/"
        },
        "id": "-jFo4k82QBfO",
        "outputId": "1fbe39d7-41c5-4652-90c0-4c34a350d535"
      },
      "execution_count": null,
      "outputs": [
        {
          "output_type": "stream",
          "name": "stdout",
          "text": [
            "This is a test\n"
          ]
        }
      ]
    },
    {
      "cell_type": "markdown",
      "source": [
        "### `.upper()` y `.lower()`\n",
        "\n",
        "En ocasiones, por ejemplo al trabajar con secuencias, podremos encontrar que algunos formatos manejan ciertos datos con minúsculas y/o mayúsculas, de modo que es necesario cambiar el dato según se requiera. Es a raíz de esto que los métodos `.upper()` y `.lower()` funcionan para convertir nuestros strings a mayúsculas o minúsculas."
      ],
      "metadata": {
        "id": "WPXLCiHnQGc6"
      }
    },
    {
      "cell_type": "code",
      "source": [
        "# Hacer todos los caracteres en mayúsculas con upper\n",
        "\n",
        "str1 = \"this will be in uppercase\"\n",
        "\n",
        "print(str1.upper())"
      ],
      "metadata": {
        "colab": {
          "base_uri": "https://localhost:8080/"
        },
        "id": "t70va4luQHJU",
        "outputId": "b4f5b57a-2ff5-449d-a7ce-63f24a0e2cda"
      },
      "execution_count": null,
      "outputs": [
        {
          "output_type": "stream",
          "name": "stdout",
          "text": [
            "THIS WILL BE IN UPPERCASE\n"
          ]
        }
      ]
    },
    {
      "cell_type": "code",
      "source": [
        "# Hacer todos los caracteres en minúsculas con lower\n",
        "\n",
        "str1 = \"THIS WILL BE IN LOWERCASE\"\n",
        "\n",
        "print(str1.lower())"
      ],
      "metadata": {
        "colab": {
          "base_uri": "https://localhost:8080/"
        },
        "id": "45cbQ1HJQJme",
        "outputId": "70f0660d-4b12-4092-aa75-5a559779fb08"
      },
      "execution_count": null,
      "outputs": [
        {
          "output_type": "stream",
          "name": "stdout",
          "text": [
            "this will be in lowercase\n"
          ]
        }
      ]
    }
  ]
}