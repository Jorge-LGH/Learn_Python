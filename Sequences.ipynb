{
  "nbformat": 4,
  "nbformat_minor": 0,
  "metadata": {
    "colab": {
      "provenance": [],
      "toc_visible": true,
      "authorship_tag": "ABX9TyPmTrOfFvvNbzmafOyhdtKF",
      "include_colab_link": true
    },
    "kernelspec": {
      "name": "python3",
      "display_name": "Python 3"
    },
    "language_info": {
      "name": "python"
    }
  },
  "cells": [
    {
      "cell_type": "markdown",
      "metadata": {
        "id": "view-in-github",
        "colab_type": "text"
      },
      "source": [
        "<a href=\"https://colab.research.google.com/github/Jorge-LGH/Learn_Python/blob/main/Sequences.ipynb\" target=\"_parent\"><img src=\"https://colab.research.google.com/assets/colab-badge.svg\" alt=\"Open In Colab\"/></a>"
      ]
    },
    {
      "cell_type": "markdown",
      "source": [
        "# Sequence types\n",
        "\n",
        "Python cuenta con una serie de tipos de datos asociados directamente con secuencias, es decir, colecciones ordenadas de datos y/u objetos. En particular, ofrece la ventaja de poder referenciar elementos pertenecientes a estas colecciones de manera precisa o incluso secuencial, de modo que puee automatizar procesos.\n",
        "\n",
        "En Python, **el index de TODAS las secuencias COEMINZA EN 0**. Es decir, si tenemos unacolección de 20 objetos y queremos accesar al objeto numero 19, no vamos a seleccionar la posición 19, pues como empezamos desde 0, el elemento 19 se encuentra en la ubiación 18. Es un poco confuso, pero podemos verlo de esta manera: En lugar de comenzar a contar los elementos desde 1, simplemente empezamos desde 0. Esto no cambia el número de elementos en nuestra colección, solo es referente a la posición dentro del lenguaje. Veamos un ejemplo.\n",
        "\n",
        "Dicho de manera sencilla, la secuencia tiene elementos que pueden ser de cualquier valor, mientras que el index siempre será del 0 hasta n, donde n es la cantidad de elementos menos 1."
      ],
      "metadata": {
        "id": "CVou3PpmQ0Yi"
      }
    },
    {
      "cell_type": "code",
      "execution_count": 60,
      "metadata": {
        "colab": {
          "base_uri": "https://localhost:8080/"
        },
        "id": "iXr42mn5Qye7",
        "outputId": "f025f532-51f9-4b4f-92ef-443b87b2f081"
      },
      "outputs": [
        {
          "output_type": "execute_result",
          "data": {
            "text/plain": [
              "3"
            ]
          },
          "metadata": {},
          "execution_count": 60
        }
      ],
      "source": [
        "# Index empieza desde 0, no 1\n",
        "\n",
        "a = [1,5,9]\n",
        "len(a)"
      ]
    },
    {
      "cell_type": "code",
      "source": [
        "# obtener el elemento en la posición \"1\"\n",
        "\n",
        "a[1]"
      ],
      "metadata": {
        "colab": {
          "base_uri": "https://localhost:8080/"
        },
        "id": "CnITeQ29Q6QO",
        "outputId": "224d1f13-848a-4849-efb9-6bb9772c8782"
      },
      "execution_count": 61,
      "outputs": [
        {
          "output_type": "execute_result",
          "data": {
            "text/plain": [
              "5"
            ]
          },
          "metadata": {},
          "execution_count": 61
        }
      ]
    },
    {
      "cell_type": "markdown",
      "source": [
        "Como podemos notar con el uso de la función `len()`, la longitud total de nuestra lista es de 3 elementos, pero al momento de seleccionar el elemento 1, esocge al número 5 (el cual sería el segundo elemento según la lógica). Esto refleja que el conteo de elementos comienza en 0, pero la cantidad de elementos no cambia.\n",
        "\n",
        "A continuación veremos algunos de los tipos de datos de secuencia más comúnmente utilizados."
      ],
      "metadata": {
        "id": "AY1YOGr_TCuZ"
      }
    },
    {
      "cell_type": "markdown",
      "source": [
        "## Lists\n",
        "\n",
        "Las listas son herramientas que nos ayudan en el almacenamiento de varios items en una sola variable. La estructura básica de una lista se compone por dos corchetes, uno al inicio y otro al final, y todos los items separados por comas entre los corchetes. A continuación veremos la formulación de una lista."
      ],
      "metadata": {
        "id": "Y6yWf_uZTF6l"
      }
    },
    {
      "cell_type": "code",
      "source": [
        "# Generar una lista\n",
        "\n",
        "a = [1,2,90,\"f\",\"z\"]\n",
        "\n",
        "print(a)"
      ],
      "metadata": {
        "colab": {
          "base_uri": "https://localhost:8080/"
        },
        "id": "Kpjku0nDTIkm",
        "outputId": "6e4eccda-3d3c-413c-ed01-61fba2ef1b4f"
      },
      "execution_count": 62,
      "outputs": [
        {
          "output_type": "stream",
          "name": "stdout",
          "text": [
            "[1, 2, 90, 'f', 'z']\n"
          ]
        }
      ]
    },
    {
      "cell_type": "markdown",
      "source": [
        "Como se puede observar, los items dentro de la lista pueden ser de diferentes tipos, por lo que esto limitará algunas operaciones en un futuro, pero al mismo tiempo nos ofrewce una herramienta para almacenar datos de diferentes clases en un mismo objeto.\n",
        "\n",
        "Ahora vamos a observar algunas manipulaciones que podemos realizar a listas que previamente existían. Esta versatilidad de reordenar, agregar o incluso restar elementos es una gran ventaja para manipular datos."
      ],
      "metadata": {
        "id": "UD_Ra7SfTLXo"
      }
    },
    {
      "cell_type": "markdown",
      "source": [
        "### List manipulation"
      ],
      "metadata": {
        "id": "W9dBPSbYUacK"
      }
    },
    {
      "cell_type": "markdown",
      "source": [
        "#### Añadir elementos\n",
        "\n",
        "Primeramente vamos a ver cómo se agregan elementos a nuestra lista. Hay una variedad de maneras para agregar elementos a nuestra lista que ya ha sido creada, así que solo se van a cubrir algunos de estos métodos en esta ocasión. En particular, veremos el uso de los métodos `.append()`, `.insert()` y `.extend()`. Al ser métodos recuerda que estos se escriben después de haber escrito el nombre de nuetro objeto, en este caso, nuestra lista.\n",
        "\n",
        "**Uso de `.append()`**"
      ],
      "metadata": {
        "id": "6Efnkh2QUbFV"
      }
    },
    {
      "cell_type": "code",
      "source": [
        "# Hacer la lista\n",
        "\n",
        "lista = [1,2,90,\"f\",\"z\"]\n",
        "\n",
        "# Añadir elemento con `.append`\n",
        "\n",
        "lista.append(\"añadido\")\n",
        "\n",
        "lista"
      ],
      "metadata": {
        "colab": {
          "base_uri": "https://localhost:8080/"
        },
        "id": "i0HVplAAUeV-",
        "outputId": "3a9a82fc-5db5-4861-ba0f-bf6c72789494"
      },
      "execution_count": 63,
      "outputs": [
        {
          "output_type": "execute_result",
          "data": {
            "text/plain": [
              "[1, 2, 90, 'f', 'z', 'añadido']"
            ]
          },
          "metadata": {},
          "execution_count": 63
        }
      ]
    },
    {
      "cell_type": "markdown",
      "source": [
        "Podemos ver que nuestro nuevo elemento ha sido añadido al final de nuestra lista, y esto es siempre el caso cuando usamos este método. Si bien, es bastante útil, el siguiente método puede especificar la posición que desea tomar.\n",
        "\n",
        "**Uso de `.insert()`**"
      ],
      "metadata": {
        "id": "2rncIyTBUjZq"
      }
    },
    {
      "cell_type": "code",
      "source": [
        "# Hacer la lista\n",
        "\n",
        "lista = [1,2,90,\"f\",\"z\"]\n",
        "\n",
        "# Añadir elemento con `.insert`\n",
        "\n",
        "lista.insert(0, 12)\n",
        "\n",
        "lista"
      ],
      "metadata": {
        "colab": {
          "base_uri": "https://localhost:8080/"
        },
        "id": "bGxv_a4YUkZZ",
        "outputId": "d87e0835-d25a-4591-c881-e0272ad3b7d2"
      },
      "execution_count": 64,
      "outputs": [
        {
          "output_type": "execute_result",
          "data": {
            "text/plain": [
              "[12, 1, 2, 90, 'f', 'z']"
            ]
          },
          "metadata": {},
          "execution_count": 64
        }
      ]
    },
    {
      "cell_type": "markdown",
      "source": [
        "Ahora podemos ver que nuestro elemento **fue insertado en la posición 0 del index de la lista**. Esto se puede cambiar al modificar nuestros parámetros en el método. En el ejemplo podemos ver los números 0 y 12, los cuales son la posición del index y el elemento que queremos añadir respectivamente. Si cambiamos el index, se moverá la posición en la que se insertará nuestro elemento.\n",
        "\n",
        "**Uso de `.extend()`**"
      ],
      "metadata": {
        "id": "1Walg1UCUojM"
      }
    },
    {
      "cell_type": "code",
      "source": [
        "# Hacer la lista\n",
        "\n",
        "lista1 = [1,2,90,\"f\",\"z\"]\n",
        "lista2 = [2,\"un string\", 4, -15]\n",
        "\n",
        "# Añadir elemento con `.insert`\n",
        "\n",
        "lista1.extend(lista2)\n",
        "\n",
        "lista1"
      ],
      "metadata": {
        "colab": {
          "base_uri": "https://localhost:8080/"
        },
        "id": "X7WfKp6KUqqp",
        "outputId": "aec999e2-7660-4a40-a76e-181124d4cf62"
      },
      "execution_count": 65,
      "outputs": [
        {
          "output_type": "execute_result",
          "data": {
            "text/plain": [
              "[1, 2, 90, 'f', 'z', 2, 'un string', 4, -15]"
            ]
          },
          "metadata": {},
          "execution_count": 65
        }
      ]
    },
    {
      "cell_type": "markdown",
      "source": [
        "Este último método es un tanto particular, pues solo puede agregar otros elementos que ya sean parte de otra secuencia de elementos ordenados, sean listas, tuplas, sets, etc."
      ],
      "metadata": {
        "id": "pE7SNOqXUtHb"
      }
    },
    {
      "cell_type": "markdown",
      "source": [
        "#### Eliminar elementos"
      ],
      "metadata": {
        "id": "1nK9i-QD68Z-"
      }
    },
    {
      "cell_type": "markdown",
      "source": [
        "En esta ocasión usaremos únicamente dos métodos para eliminar elementos dentro de una lista.\n",
        "\n",
        "**Uso del operador `del`**"
      ],
      "metadata": {
        "id": "JlP-OLkm7EMI"
      }
    },
    {
      "cell_type": "markdown",
      "source": [
        "Este operador se encarga de eliminar todos los elementos dentro de una lista que sean seleccionados. Podemos ver cómo funciona a continuación."
      ],
      "metadata": {
        "id": "yuosPjIG9X7s"
      }
    },
    {
      "cell_type": "code",
      "source": [
        "print(lista1)\n",
        "\n",
        "del lista1[0:2]\n",
        "print(lista1)"
      ],
      "metadata": {
        "colab": {
          "base_uri": "https://localhost:8080/"
        },
        "id": "QOM4a1Tf7CXv",
        "outputId": "bfb64a29-8945-46d0-e1ee-d1e9320a5b6e"
      },
      "execution_count": 66,
      "outputs": [
        {
          "output_type": "stream",
          "name": "stdout",
          "text": [
            "[1, 2, 90, 'f', 'z', 2, 'un string', 4, -15]\n",
            "[90, 'f', 'z', 2, 'un string', 4, -15]\n"
          ]
        }
      ]
    },
    {
      "cell_type": "markdown",
      "source": [
        "**Uso de `.remove()`**\n",
        "\n",
        "La sintaxis de este método puede ser más entendible que el operador `del` en algunas ocasiones, pues en este método solo debes de señalar el elemento a eliminar."
      ],
      "metadata": {
        "id": "tPNxuVkh-YWm"
      }
    },
    {
      "cell_type": "code",
      "source": [
        "print(lista1)\n",
        "lista1.remove(-15)\n",
        "print(lista1)"
      ],
      "metadata": {
        "colab": {
          "base_uri": "https://localhost:8080/"
        },
        "id": "BNoybh4o_Amn",
        "outputId": "33acfec6-a514-4f88-e7b5-5b69accaeb58"
      },
      "execution_count": 67,
      "outputs": [
        {
          "output_type": "stream",
          "name": "stdout",
          "text": [
            "[90, 'f', 'z', 2, 'un string', 4, -15]\n",
            "[90, 'f', 'z', 2, 'un string', 4]\n"
          ]
        }
      ]
    },
    {
      "cell_type": "markdown",
      "source": [
        "## Tuples\n",
        "\n",
        "Este tipo de dato es usado para almacenar **elementos de un solo tipo** en una sola variable. A diferencia de otro tipo de dato, **no puede alterarse**, es decir, una vez que has generado un tuple, se queda así a menos que lo sobrescribas. El modo de escribir uno de estos objetos es con parénteis."
      ],
      "metadata": {
        "id": "GpsPD-r3Ut5G"
      }
    },
    {
      "cell_type": "code",
      "source": [
        "# generar una tuple\n",
        "\n",
        "tuple1 = (\"hola\",\"esto\",\"es\",\"una\",\"tupla\")\n",
        "\n",
        "type(tuple1)\n",
        "tuple1"
      ],
      "metadata": {
        "colab": {
          "base_uri": "https://localhost:8080/"
        },
        "id": "N2jUJ_uKUwvp",
        "outputId": "f057204d-de5e-4045-94af-69991e1741c3"
      },
      "execution_count": 68,
      "outputs": [
        {
          "output_type": "execute_result",
          "data": {
            "text/plain": [
              "('hola', 'esto', 'es', 'una', 'tupla')"
            ]
          },
          "metadata": {},
          "execution_count": 68
        }
      ]
    },
    {
      "cell_type": "markdown",
      "source": [
        "```\n",
        "tuple1.append(\"error\")\n",
        "AttributeError: 'tuple' object has no attribute 'append'\n",
        "```"
      ],
      "metadata": {
        "id": "3GtT-HkHXjqM"
      }
    },
    {
      "cell_type": "markdown",
      "source": [
        "## Dictionaries\n",
        "\n"
      ],
      "metadata": {
        "id": "wzYRCIs0XSRV"
      }
    },
    {
      "cell_type": "markdown",
      "source": [
        "Los diccionarios son una herramienta para almacenar datos (*values*) con un identificador específico (*keys*). Estos diccionarios pueden ser manipulados al agregar nuevos valores a cada llave, cambiar los nombres de las llaves y agregar o eliminar pares completos (*key* + *value*). Cada llave puede almacenar desde un solo dato hasta una lista de diversos datos dentro de sí mismo, por lo que es útil al manejar diversos datos a la vez."
      ],
      "metadata": {
        "id": "UFk9yij3S-_u"
      }
    },
    {
      "cell_type": "markdown",
      "source": [
        "A continuación podemos observar la elaboración más rudimentaria de un diccionario y algunas posibles manipulaciones."
      ],
      "metadata": {
        "id": "T43BfDSM4jMO"
      }
    },
    {
      "cell_type": "code",
      "source": [
        "# Crear un diccionario\n",
        "\n",
        "dict1 = {\"key1\": 100,\n",
        "         \"key2\": [1,2,3,4],\n",
        "         \"key3\": \"This is a string value\",\n",
        "         \"key4\": [\"a\",\"b\",\"c\"]}\n",
        "\n",
        "print(dict1)"
      ],
      "metadata": {
        "colab": {
          "base_uri": "https://localhost:8080/"
        },
        "id": "9ft0Tn4-4Yb5",
        "outputId": "29f660dc-58f7-4912-bc14-eecfbf11f4ef"
      },
      "execution_count": 69,
      "outputs": [
        {
          "output_type": "stream",
          "name": "stdout",
          "text": [
            "{'key1': 100, 'key2': [1, 2, 3, 4], 'key3': 'This is a string value', 'key4': ['a', 'b', 'c']}\n"
          ]
        }
      ]
    },
    {
      "cell_type": "code",
      "source": [
        "# Longitud de un diccionario es el número de llaves que hay\n",
        "\n",
        "print(len(dict1))"
      ],
      "metadata": {
        "colab": {
          "base_uri": "https://localhost:8080/"
        },
        "id": "JkgQn_o25AoD",
        "outputId": "654eec53-751a-419d-bad0-6129c112eaeb"
      },
      "execution_count": 70,
      "outputs": [
        {
          "output_type": "stream",
          "name": "stdout",
          "text": [
            "4\n"
          ]
        }
      ]
    },
    {
      "cell_type": "markdown",
      "source": [
        "Podemos cambiar los valores de las llaves directamente o sobrescribiendo dentro de la misma lista."
      ],
      "metadata": {
        "id": "aX_42Kq85KGB"
      }
    },
    {
      "cell_type": "code",
      "source": [
        "# Cambiar valor directamente\n",
        "\n",
        "dict1[\"key1\"] = \"new value\"\n",
        "\n",
        "print(dict1[\"key1\"])"
      ],
      "metadata": {
        "colab": {
          "base_uri": "https://localhost:8080/"
        },
        "id": "2tH-iJXf5WO5",
        "outputId": "dfdc9ea7-feeb-4047-cdef-f0d4c58266f3"
      },
      "execution_count": 71,
      "outputs": [
        {
          "output_type": "stream",
          "name": "stdout",
          "text": [
            "new value\n"
          ]
        }
      ]
    },
    {
      "cell_type": "code",
      "source": [
        "# Añade nueva llave y valor\n",
        "\n",
        "dict1[\"new_key\"] = \"This is an addition\"\n",
        "\n",
        "print(dict1)"
      ],
      "metadata": {
        "colab": {
          "base_uri": "https://localhost:8080/"
        },
        "id": "9vgOzj8mBwDy",
        "outputId": "5f1daed8-8e19-4146-ace4-ab1b33b592fa"
      },
      "execution_count": 72,
      "outputs": [
        {
          "output_type": "stream",
          "name": "stdout",
          "text": [
            "{'key1': 'new value', 'key2': [1, 2, 3, 4], 'key3': 'This is a string value', 'key4': ['a', 'b', 'c'], 'new_key': 'This is an addition'}\n"
          ]
        }
      ]
    },
    {
      "cell_type": "code",
      "source": [
        "# Sobrescribir valor dentro de la misma lista\n",
        "\n",
        "dict1 = {\"key1\": 100,\n",
        "         \"key1\": \"This is new\",\n",
        "         \"key2\": [1,2,3,4],\n",
        "         \"key3\": \"This is a string value\",\n",
        "         2: [\"a\",\"b\",\"c\"]}\n",
        "\n",
        "print(dict1[\"key1\"])"
      ],
      "metadata": {
        "colab": {
          "base_uri": "https://localhost:8080/"
        },
        "id": "QXUfy-FY5ZfJ",
        "outputId": "93c506b5-1d78-48ce-bcb8-0dd3da660346"
      },
      "execution_count": 73,
      "outputs": [
        {
          "output_type": "stream",
          "name": "stdout",
          "text": [
            "This is new\n"
          ]
        }
      ]
    },
    {
      "cell_type": "markdown",
      "source": [
        "Debe de notarse que la estructura básica para definir una lista es a través del uso de { } al declarar nuestro objeto, después, debe declararse el nombre de nuestra llave (puede ser un string o un número), seguido de \" : \" y los valores que se le asignan a la llave. Finalmente, para tener varias llaves y valores, debe de separarse por una coma."
      ],
      "metadata": {
        "id": "_5SnV0Wt58bm"
      }
    },
    {
      "cell_type": "markdown",
      "source": [
        "# Slicing"
      ],
      "metadata": {
        "id": "fg_2zNq1Ag9A"
      }
    },
    {
      "cell_type": "markdown",
      "source": [
        "Ahora veremos el concepto de *slicing*, con el cual ya deberías de tener familiaridad si es que has trabajado conscientemente con R previamente. El *slicing* es la idea de cortar los objetos que tenemos para quedarnos únicamente con la información que nos sea útil, o simplemente para eliminar datos innecesarios; puede ser eliminando por completo, obteniendo datos dentro de un rango específico, etc. A continuación se presenta una tabla con ejemplos de cómo se realiza el *slicing*."
      ],
      "metadata": {
        "id": "WvtMOj6pAjDB"
      }
    },
    {
      "cell_type": "markdown",
      "source": [
        "| Ejemplo     | Equivalente    | Descripción                                       |\n",
        "| ----------- | -------------- | ------------------------------------------------- |\n",
        "| ```iterable[5]``` | ```iterable[5:6:1]```      | obtener el quinto elemento                      |\n",
        "| ```iterable[0]``` | ```iterable[0:1:1]```      | obtener el primer elemento                      |\n",
        "| ```iterable[-1]``` | ```iterable[-1:-2:-1]```      | obtener el último elemento                      |\n",
        "| ```iterable[:5]``` | ```iterable[0:5:1]```      | obtener los primeros 5 elementos                |\n",
        "| ```iterable[::5]``` | ```iterable[0:-1:5]```      | obtener cada quinto elemento empezando en el índice 0 del iterable completo |\n",
        "| ```iterable[3::-1]``` | ```iterable[3:-1:-1]```      | obtener todos los elementos a partir del índice 3 y revertirlos |"
      ],
      "metadata": {
        "id": "SpQSk6G-CZIM"
      }
    },
    {
      "cell_type": "code",
      "source": [
        "string1 = \"Esta es una prueba para el slicing\"\n",
        "\n",
        "first = string1[0] #Escoge el primer elemento, es decir, index 0\n",
        "print(first)\n",
        "\n",
        "third = string1[2] # Escoge el tercer elemento\n",
        "print(third)\n",
        "\n",
        "from_1_to_5 = string1[0:5] # Los primeros 5 elementos, recuerda que no cuenta el 5, es HASTA, no lo incluye\n",
        "print(from_1_to_5)\n",
        "\n",
        "rem_last_3 = string1[0:-3] # Aquí señalamos que queremos todos los elementos desde el 0 hasta la última posición menos tres\n",
        "print(rem_last_3)\n",
        "\n",
        "reversed_string = string1[::-1] # Esto marca que queremos el inicio hasta el final en orden -1, es decir, al revés\n",
        "print(reversed_string)\n",
        "\n",
        "sliced_string = string1[::2] # Señala que queremos todos los elementos en brincos de 2\n",
        "print(sliced_string)\n"
      ],
      "metadata": {
        "colab": {
          "base_uri": "https://localhost:8080/"
        },
        "id": "dssh_D4VC_al",
        "outputId": "9d7754fe-aad7-4963-dc71-7d09cdec6018"
      },
      "execution_count": 74,
      "outputs": [
        {
          "output_type": "stream",
          "name": "stdout",
          "text": [
            "E\n",
            "t\n",
            "Esta \n",
            "Esta es una prueba para el slic\n",
            "gnicils le arap abeurp anu se atsE\n",
            "Et suapub aae lcn\n"
          ]
        }
      ]
    }
  ]
}