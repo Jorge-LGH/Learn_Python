{
  "nbformat": 4,
  "nbformat_minor": 0,
  "metadata": {
    "colab": {
      "provenance": [],
      "authorship_tag": "ABX9TyOhWxq9SF5XBz15FreXAgvi",
      "include_colab_link": true
    },
    "kernelspec": {
      "name": "python3",
      "display_name": "Python 3"
    },
    "language_info": {
      "name": "python"
    }
  },
  "cells": [
    {
      "cell_type": "markdown",
      "metadata": {
        "id": "view-in-github",
        "colab_type": "text"
      },
      "source": [
        "<a href=\"https://colab.research.google.com/github/Jorge-LGH/Learn_Python/blob/main/Numeric.ipynb\" target=\"_parent\"><img src=\"https://colab.research.google.com/assets/colab-badge.svg\" alt=\"Open In Colab\"/></a>"
      ]
    },
    {
      "cell_type": "markdown",
      "source": [
        "# Numeric data types\n",
        "\n",
        "Los tipos de datos numéricos son fáciles de entender y abarcan de manera general tres tipos de datos: *integers* (int), *floating point numbers* (float) y *complex numbers* (complex). Los dos tipos de datos numéricos más usados en el área son los *integers* y los *float*, de modo que en este momento los complex quedarán fuera de este documento. A continuación, veremos algunas de las características de cada uno de estos tipos de datos."
      ],
      "metadata": {
        "id": "Ho9Y3fic5igP"
      }
    },
    {
      "cell_type": "markdown",
      "source": [
        "## Integers\n",
        "\n",
        "Este tipo de dato se refiere a números enteros, es decir, números sin decimales. Siempre y cuando un número sea entero, sin importar su signo, se le puede considerar un *integer*. Podemos corroborar la clase de nuestro dato directamente con la función `type()`, donde pondremos nuestro valor dentro del paréntesis."
      ],
      "metadata": {
        "id": "cx_3lr_B6I3k"
      }
    },
    {
      "cell_type": "code",
      "source": [
        "# Texto a clase numérica\n",
        "\n",
        "type(\"2\")"
      ],
      "metadata": {
        "colab": {
          "base_uri": "https://localhost:8080/"
        },
        "id": "TmRdAhC06KlW",
        "outputId": "42d46cc6-a53b-4220-8370-40d006ec4f43"
      },
      "execution_count": null,
      "outputs": [
        {
          "output_type": "execute_result",
          "data": {
            "text/plain": [
              "str"
            ]
          },
          "metadata": {},
          "execution_count": 3
        }
      ]
    },
    {
      "cell_type": "markdown",
      "source": [
        "Otra caso que puede suceder, es cuando se le ha asignado un valor a una variable y se quiere corroborar el tipo de dato. El uso de la función `type()` es igual que en el ejemplo anterior, solo que se pondrá la variable dentro del paréntesis. En este caso se llama *integer literal* al estar directamente escrito dentro de una variable en el código."
      ],
      "metadata": {
        "id": "gqwr1-zp6qb-"
      }
    },
    {
      "cell_type": "code",
      "source": [
        "# Asigando un valor a una variable y determinando su clase\n",
        "\n",
        "num1 = 12\n",
        "print(type(num1))\n",
        "\n",
        "num2 = -24\n",
        "print(type(num2))"
      ],
      "metadata": {
        "colab": {
          "base_uri": "https://localhost:8080/"
        },
        "id": "OzAkjxGv6rSH",
        "outputId": "64faaaf0-7157-4275-d357-700aa79527b6"
      },
      "execution_count": null,
      "outputs": [
        {
          "output_type": "stream",
          "name": "stdout",
          "text": [
            "<class 'int'>\n",
            "<class 'int'>\n"
          ]
        }
      ]
    },
    {
      "cell_type": "markdown",
      "source": [
        "**Debemos de recordar que los números no se escriben con \",\"**, en caso de hacerlo, nos arrojará un error.\n",
        "\n",
        "```\n",
        ">>> type(2,000,000)\n",
        "TypeError: type.__new__() argument 1 must be str, not int\n",
        "\n",
        "```"
      ],
      "metadata": {
        "id": "sK08HRG-6uBU"
      }
    },
    {
      "cell_type": "markdown",
      "source": [
        "## Floating point numbers\n",
        "\n",
        "Este tipo de dato, mejor conocido como *float*, se compone por los números que tengan un decimal. Incluso número enteros pueden ser considerados parte de este tipo de datos, esto si se la sintaxis adecuada. Por ejemplo, si comparamos la clase de 1 y de 1.0, nos arrojará *int* y *float* respectivamente. Pese a que la lógica indica que es lo mismo, debemos de considerar que aun si el decimal es 0, sigue siendo un decimal y por ende pertenece a la clase *float*.\n",
        "\n",
        "Al igual que con los datos de clase int, la clase de los datos se puede evaluar usando la misma función previamente usada."
      ],
      "metadata": {
        "id": "xZz8MLY-6zMY"
      }
    },
    {
      "cell_type": "code",
      "source": [
        "# Evaluar clase de dato numérico directamente\n",
        "\n",
        "print(type(1.0))\n",
        "\n",
        "print(type(-1.0))"
      ],
      "metadata": {
        "colab": {
          "base_uri": "https://localhost:8080/"
        },
        "id": "tmYqoxHz65xB",
        "outputId": "e7e93fd7-5b8d-4c8e-e73e-e8411814fae5"
      },
      "execution_count": null,
      "outputs": [
        {
          "output_type": "stream",
          "name": "stdout",
          "text": [
            "<class 'float'>\n",
            "<class 'float'>\n"
          ]
        }
      ]
    },
    {
      "cell_type": "markdown",
      "source": [
        "Ahora, igualmente podemos asignar valores numnéricos de clase float a variables y corroborar su clase al igual que los int."
      ],
      "metadata": {
        "id": "9nbinTkJ679T"
      }
    },
    {
      "cell_type": "code",
      "source": [
        "# Asigando un valor a una variable y determinando su clase\n",
        "\n",
        "num1 = 1.2\n",
        "print(type(num1))\n",
        "\n",
        "num2 = -2.0\n",
        "print(type(num2))"
      ],
      "metadata": {
        "colab": {
          "base_uri": "https://localhost:8080/"
        },
        "id": "dR_Py4St68qN",
        "outputId": "5a79d906-112d-4ad3-868b-e2b4bdaaf4d6"
      },
      "execution_count": null,
      "outputs": [
        {
          "output_type": "stream",
          "name": "stdout",
          "text": [
            "<class 'float'>\n",
            "<class 'float'>\n"
          ]
        }
      ]
    },
    {
      "cell_type": "markdown",
      "source": [
        "## String to numeric\n",
        "\n",
        "Otro punto importante que se debe de mencionar, es la capacidad de convertir un texto en un objeto de clase numérica. En ocasiones algunos resultados o nuestros datos no tendrán la clase que nos convenga más para trabajar con ellos, incluyendo números y texto, por lo que es necesario aprender cambiar la clase de nuestros datos. Para esto es necesario mencionar que no podemos convertir letras en números, es decir, si queremos convertir objetos que se consideran caracteres a objetos de clase numérica, estos ya deben de ser números por sí mismos. Es un poco confuso al principio, pero se puede ejemplificar fácilmente.\n",
        "\n",
        "**El texto en Python se encuentra entre  comillas dobles (\" \"), o bien, comillas simples (' ').**"
      ],
      "metadata": {
        "id": "W-PhvyAI7Bm-"
      }
    },
    {
      "cell_type": "code",
      "source": [
        "# Texto a clase numérica\n",
        "\n",
        "type(\"2\")"
      ],
      "metadata": {
        "colab": {
          "base_uri": "https://localhost:8080/"
        },
        "id": "mMR7bN5p7C98",
        "outputId": "a19932ec-6108-429f-d3a6-8a51b8c03677"
      },
      "execution_count": null,
      "outputs": [
        {
          "output_type": "execute_result",
          "data": {
            "text/plain": [
              "str"
            ]
          },
          "metadata": {},
          "execution_count": 7
        }
      ]
    },
    {
      "cell_type": "markdown",
      "source": [
        "Como podemos ver, el resultado de nuestra función `type()` nos arroja una clase llamada `str`, la cual no corresponde a ninguna clase de dato numérico, pero podemos convertirlo con facilidad a int o float haciendo uso de las funciones `int()` y `float()` respectivamente.\n"
      ],
      "metadata": {
        "id": "WTqq8nrP7Ngx"
      }
    },
    {
      "cell_type": "code",
      "source": [
        "# Texto a clase numérica\n",
        "\n",
        "int(\"2\")"
      ],
      "metadata": {
        "colab": {
          "base_uri": "https://localhost:8080/"
        },
        "id": "J4yatQdS7Rbl",
        "outputId": "c740c09f-455f-4679-c0f9-51ebb0d3aaef"
      },
      "execution_count": null,
      "outputs": [
        {
          "output_type": "execute_result",
          "data": {
            "text/plain": [
              "2"
            ]
          },
          "metadata": {},
          "execution_count": 8
        }
      ]
    },
    {
      "cell_type": "code",
      "source": [
        "# texto a float\n",
        "\n",
        "float(\"2\")"
      ],
      "metadata": {
        "colab": {
          "base_uri": "https://localhost:8080/"
        },
        "id": "khqd7Z8v7Snz",
        "outputId": "344065e8-b188-4ec2-e257-917f04bcd9a0"
      },
      "execution_count": null,
      "outputs": [
        {
          "output_type": "execute_result",
          "data": {
            "text/plain": [
              "2.0"
            ]
          },
          "metadata": {},
          "execution_count": 9
        }
      ]
    },
    {
      "cell_type": "code",
      "source": [
        "# texto con decimales a float\n",
        "\n",
        "float(\"2.1\")"
      ],
      "metadata": {
        "colab": {
          "base_uri": "https://localhost:8080/"
        },
        "id": "a2s--Mht7VSS",
        "outputId": "89992447-8bbc-4713-e957-e25a7a92d5cf"
      },
      "execution_count": null,
      "outputs": [
        {
          "output_type": "execute_result",
          "data": {
            "text/plain": [
              "2.1"
            ]
          },
          "metadata": {},
          "execution_count": 10
        }
      ]
    },
    {
      "cell_type": "markdown",
      "source": [
        "Podemos observar que al tener un texto sin decimales y aplicando la función `float()`, nuestro texto no solo se convierte en un número, sino, que se le agrega el decimal 0 y se vuelve de clase float. Ahora, en el caso de usar la función `int()` en un texto con decimales, esto nos arrojará un error.\n",
        "\n",
        "```\n",
        ">>> int(\"2.1\")\n",
        "ValueError: invalid literal for int() with base 10: '2.1'\n",
        "\n",
        "```"
      ],
      "metadata": {
        "id": "lYAs3Okc7Y2n"
      }
    }
  ]
}