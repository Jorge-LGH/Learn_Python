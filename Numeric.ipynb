{
  "nbformat": 4,
  "nbformat_minor": 0,
  "metadata": {
    "colab": {
      "provenance": [],
      "toc_visible": true,
      "collapsed_sections": [
        "AMiICxJMjS0U"
      ],
      "authorship_tag": "ABX9TyP4JEzjAVVKhHcfYlNBJGAq",
      "include_colab_link": true
    },
    "kernelspec": {
      "name": "python3",
      "display_name": "Python 3"
    },
    "language_info": {
      "name": "python"
    }
  },
  "cells": [
    {
      "cell_type": "markdown",
      "metadata": {
        "id": "view-in-github",
        "colab_type": "text"
      },
      "source": [
        "<a href=\"https://colab.research.google.com/github/Jorge-LGH/Learn_Python/blob/main/Numeric.ipynb\" target=\"_parent\"><img src=\"https://colab.research.google.com/assets/colab-badge.svg\" alt=\"Open In Colab\"/></a>"
      ]
    },
    {
      "cell_type": "markdown",
      "source": [
        "# **Equivalencias R con Python**\n",
        "\n",
        "Esta tabla sirve como una ayuda básica para comprender las equivalencias de R, el cual debes de conocer, y Python. La finalidad de este elemento no es enseñar, si no, que funge como una ayuda para *tocar tierra* y hacer más entendible el cambio.\n",
        "\n",
        "**¡Para aprender un lenguaje, las equivalencias NO lo son todo!**\n",
        "\n",
        "| Acción   | R                           | Python                      |\n",
        "|------------|-----------------------------|-----------------------------|\n",
        "| Definir | `x <- 3.14`                 | `x = 3.14`                  |\n",
        "| Sumar   | `x + 2`                     | `x + 2`                     |\n",
        "| Restar| `x - 2`                     | `x - 2`                     |\n",
        "| Multiplicar | `x * 2`                  | `x * 2`                     |\n",
        "| División   | `x / 2`                     | `x / 2`                     |\n",
        "| Exponencial | `x ^ 2`                  | `x ** 2`                    |\n",
        "| Valor absoluto | `abs(x)`                  | `abs(x)`                    |\n",
        "| Convertir en integer | `as.integer(x)`      | `int(x)`                    |\n",
        "| Convertir en string | `as.character(x)`     | `str(x)`                    |\n",
        "\n"
      ],
      "metadata": {
        "id": "8KNejGkRpuxk"
      }
    },
    {
      "cell_type": "markdown",
      "source": [
        "# Numeric data types\n",
        "\n",
        "Los tipos de datos numéricos son fáciles de entender y abarcan de manera general tres tipos de datos: *integers* (int), *floating point numbers* (float) y *complex numbers* (complex). Los dos tipos de datos numéricos más usados en el área son los *integers* y los *float*, de modo que en este momento los complex quedarán fuera de este documento. A continuación, veremos algunas de las características de cada uno de estos tipos de datos."
      ],
      "metadata": {
        "id": "Ho9Y3fic5igP"
      }
    },
    {
      "cell_type": "markdown",
      "source": [
        "## Integers\n",
        "\n",
        "Este tipo de dato se refiere a números enteros, es decir, números sin decimales. Siempre y cuando un número sea entero, sin importar su signo, se le puede considerar un *integer*. Podemos corroborar la clase de nuestro dato directamente con la función `type()`, donde pondremos nuestro valor dentro del paréntesis."
      ],
      "metadata": {
        "id": "cx_3lr_B6I3k"
      }
    },
    {
      "cell_type": "code",
      "source": [
        "# Texto a clase numérica\n",
        "\n",
        "type(\"2\")"
      ],
      "metadata": {
        "colab": {
          "base_uri": "https://localhost:8080/"
        },
        "id": "TmRdAhC06KlW",
        "outputId": "42d46cc6-a53b-4220-8370-40d006ec4f43"
      },
      "execution_count": null,
      "outputs": [
        {
          "output_type": "execute_result",
          "data": {
            "text/plain": [
              "str"
            ]
          },
          "metadata": {},
          "execution_count": 3
        }
      ]
    },
    {
      "cell_type": "markdown",
      "source": [
        "Otra caso que puede suceder, es cuando se le ha asignado un valor a una variable y se quiere corroborar el tipo de dato. El uso de la función `type()` es igual que en el ejemplo anterior, solo que se pondrá la variable dentro del paréntesis. En este caso se llama *integer literal* al estar directamente escrito dentro de una variable en el código."
      ],
      "metadata": {
        "id": "gqwr1-zp6qb-"
      }
    },
    {
      "cell_type": "code",
      "source": [
        "# Asigando un valor a una variable y determinando su clase\n",
        "\n",
        "num1 = 12\n",
        "print(type(num1))\n",
        "\n",
        "num2 = -24\n",
        "print(type(num2))"
      ],
      "metadata": {
        "colab": {
          "base_uri": "https://localhost:8080/"
        },
        "id": "OzAkjxGv6rSH",
        "outputId": "64faaaf0-7157-4275-d357-700aa79527b6"
      },
      "execution_count": null,
      "outputs": [
        {
          "output_type": "stream",
          "name": "stdout",
          "text": [
            "<class 'int'>\n",
            "<class 'int'>\n"
          ]
        }
      ]
    },
    {
      "cell_type": "markdown",
      "source": [
        "**Debemos de recordar que los números no se escriben con \",\"**, en caso de hacerlo, nos arrojará un error.\n",
        "\n",
        "```\n",
        ">>> type(2,000,000)\n",
        "TypeError: type.__new__() argument 1 must be str, not int\n",
        "\n",
        "```"
      ],
      "metadata": {
        "id": "sK08HRG-6uBU"
      }
    },
    {
      "cell_type": "markdown",
      "source": [
        "## Floating point numbers\n",
        "\n",
        "Este tipo de dato, mejor conocido como *float*, se compone por los números que tengan un decimal. Incluso número enteros pueden ser considerados parte de este tipo de datos, esto si se la sintaxis adecuada. Por ejemplo, si comparamos la clase de 1 y de 1.0, nos arrojará *int* y *float* respectivamente. Pese a que la lógica indica que es lo mismo, debemos de considerar que aun si el decimal es 0, sigue siendo un decimal y por ende pertenece a la clase *float*.\n",
        "\n",
        "Al igual que con los datos de clase int, la clase de los datos se puede evaluar usando la misma función previamente usada."
      ],
      "metadata": {
        "id": "xZz8MLY-6zMY"
      }
    },
    {
      "cell_type": "code",
      "source": [
        "# Evaluar clase de dato numérico directamente\n",
        "\n",
        "print(type(1.0))\n",
        "\n",
        "print(type(-1.0))"
      ],
      "metadata": {
        "colab": {
          "base_uri": "https://localhost:8080/"
        },
        "id": "tmYqoxHz65xB",
        "outputId": "e7e93fd7-5b8d-4c8e-e73e-e8411814fae5"
      },
      "execution_count": null,
      "outputs": [
        {
          "output_type": "stream",
          "name": "stdout",
          "text": [
            "<class 'float'>\n",
            "<class 'float'>\n"
          ]
        }
      ]
    },
    {
      "cell_type": "markdown",
      "source": [
        "Ahora, igualmente podemos asignar valores numnéricos de clase float a variables y corroborar su clase al igual que los int."
      ],
      "metadata": {
        "id": "9nbinTkJ679T"
      }
    },
    {
      "cell_type": "code",
      "source": [
        "# Asigando un valor a una variable y determinando su clase\n",
        "\n",
        "num1 = 1.2\n",
        "print(type(num1))\n",
        "\n",
        "num2 = -2.0\n",
        "print(type(num2))"
      ],
      "metadata": {
        "colab": {
          "base_uri": "https://localhost:8080/"
        },
        "id": "dR_Py4St68qN",
        "outputId": "5a79d906-112d-4ad3-868b-e2b4bdaaf4d6"
      },
      "execution_count": null,
      "outputs": [
        {
          "output_type": "stream",
          "name": "stdout",
          "text": [
            "<class 'float'>\n",
            "<class 'float'>\n"
          ]
        }
      ]
    },
    {
      "cell_type": "markdown",
      "source": [
        "## String to numeric\n",
        "\n",
        "Otro punto importante que se debe de mencionar, es la capacidad de convertir un texto en un objeto de clase numérica. En ocasiones algunos resultados o nuestros datos no tendrán la clase que nos convenga más para trabajar con ellos, incluyendo números y texto, por lo que es necesario aprender cambiar la clase de nuestros datos. Para esto es necesario mencionar que no podemos convertir letras en números, es decir, si queremos convertir objetos que se consideran caracteres a objetos de clase numérica, estos ya deben de ser números por sí mismos. Es un poco confuso al principio, pero se puede ejemplificar fácilmente.\n",
        "\n",
        "**El texto en Python se encuentra entre  comillas dobles (\" \"), o bien, comillas simples (' ').**"
      ],
      "metadata": {
        "id": "W-PhvyAI7Bm-"
      }
    },
    {
      "cell_type": "code",
      "source": [
        "# Texto a clase numérica\n",
        "\n",
        "type(\"2\")"
      ],
      "metadata": {
        "colab": {
          "base_uri": "https://localhost:8080/"
        },
        "id": "mMR7bN5p7C98",
        "outputId": "a19932ec-6108-429f-d3a6-8a51b8c03677"
      },
      "execution_count": null,
      "outputs": [
        {
          "output_type": "execute_result",
          "data": {
            "text/plain": [
              "str"
            ]
          },
          "metadata": {},
          "execution_count": 7
        }
      ]
    },
    {
      "cell_type": "markdown",
      "source": [
        "Como podemos ver, el resultado de nuestra función `type()` nos arroja una clase llamada `str`, la cual no corresponde a ninguna clase de dato numérico, pero podemos convertirlo con facilidad a int o float haciendo uso de las funciones `int()` y `float()` respectivamente.\n"
      ],
      "metadata": {
        "id": "WTqq8nrP7Ngx"
      }
    },
    {
      "cell_type": "code",
      "source": [
        "# Texto a clase numérica\n",
        "\n",
        "int(\"2\")"
      ],
      "metadata": {
        "colab": {
          "base_uri": "https://localhost:8080/"
        },
        "id": "J4yatQdS7Rbl",
        "outputId": "c740c09f-455f-4679-c0f9-51ebb0d3aaef"
      },
      "execution_count": null,
      "outputs": [
        {
          "output_type": "execute_result",
          "data": {
            "text/plain": [
              "2"
            ]
          },
          "metadata": {},
          "execution_count": 8
        }
      ]
    },
    {
      "cell_type": "code",
      "source": [
        "# texto a float\n",
        "\n",
        "float(\"2\")"
      ],
      "metadata": {
        "colab": {
          "base_uri": "https://localhost:8080/"
        },
        "id": "khqd7Z8v7Snz",
        "outputId": "344065e8-b188-4ec2-e257-917f04bcd9a0"
      },
      "execution_count": null,
      "outputs": [
        {
          "output_type": "execute_result",
          "data": {
            "text/plain": [
              "2.0"
            ]
          },
          "metadata": {},
          "execution_count": 9
        }
      ]
    },
    {
      "cell_type": "code",
      "source": [
        "# texto con decimales a float\n",
        "\n",
        "float(\"2.1\")"
      ],
      "metadata": {
        "colab": {
          "base_uri": "https://localhost:8080/"
        },
        "id": "a2s--Mht7VSS",
        "outputId": "89992447-8bbc-4713-e957-e25a7a92d5cf"
      },
      "execution_count": null,
      "outputs": [
        {
          "output_type": "execute_result",
          "data": {
            "text/plain": [
              "2.1"
            ]
          },
          "metadata": {},
          "execution_count": 10
        }
      ]
    },
    {
      "cell_type": "markdown",
      "source": [
        "Podemos observar que al tener un texto sin decimales y aplicando la función `float()`, nuestro texto no solo se convierte en un número, sino, que se le agrega el decimal 0 y se vuelve de clase float. Ahora, en el caso de usar la función `int()` en un texto con decimales, esto nos arrojará un error.\n",
        "\n",
        "```\n",
        ">>> int(\"2.1\")\n",
        "ValueError: invalid literal for int() with base 10: '2.1'\n",
        "\n",
        "```"
      ],
      "metadata": {
        "id": "lYAs3Okc7Y2n"
      }
    },
    {
      "cell_type": "markdown",
      "source": [
        "# Manipulación de datos numéricos\n",
        "\n",
        "El uso más obvio de datos numéricos, y por ende su manipulación, es con fines matemáticos. Así como R, y básicamente cualquier lenguaje de programaciín, este puede funcionar como una herramienta de cálculo matemático.\n",
        "\n",
        "La sintaxis en Python es básicamente igual que la de R en varias operaciones, pero siempre hay que recordar que existen diferencias y no tenerlas en cuenta generará problemas."
      ],
      "metadata": {
        "id": "27VnUbh4r-uq"
      }
    },
    {
      "cell_type": "markdown",
      "source": [
        "## Suma"
      ],
      "metadata": {
        "id": "reaSG-XKs_ax"
      }
    },
    {
      "cell_type": "code",
      "source": [
        "print(2 + 3)\n",
        "\n",
        "print(-12 + -17)\n",
        "\n",
        "print(1093498235423098748749872348972348972398320809324 + 9871871879819809120398123)\n",
        "\n",
        "print(0.000000012028484 + -0.531234)"
      ],
      "metadata": {
        "colab": {
          "base_uri": "https://localhost:8080/"
        },
        "id": "M72Q3vNOtFH_",
        "outputId": "13992121-d7ec-48e6-842c-386555b503a2"
      },
      "execution_count": null,
      "outputs": [
        {
          "output_type": "stream",
          "name": "stdout",
          "text": [
            "5\n",
            "-29\n",
            "1093498235423098748749882220844228792207441207447\n",
            "-0.531233987971516\n"
          ]
        }
      ]
    },
    {
      "cell_type": "markdown",
      "source": [
        "## Resta"
      ],
      "metadata": {
        "id": "ZQ2pG0PXtcMq"
      }
    },
    {
      "cell_type": "code",
      "source": [
        "print(123 - 123)\n",
        "\n",
        "print(-98 - 90)\n",
        "\n",
        "print(0.9 - -0.1)\n",
        "\n",
        "print(1231239 - 9999008)"
      ],
      "metadata": {
        "colab": {
          "base_uri": "https://localhost:8080/"
        },
        "id": "hWU09I18tdT0",
        "outputId": "73655060-562d-4432-ea30-1190109172ed"
      },
      "execution_count": null,
      "outputs": [
        {
          "output_type": "stream",
          "name": "stdout",
          "text": [
            "0\n",
            "-188\n",
            "1.0\n",
            "-8767769\n"
          ]
        }
      ]
    },
    {
      "cell_type": "markdown",
      "source": [
        "## Mutiplicación"
      ],
      "metadata": {
        "id": "0tOMdu41t8_d"
      }
    },
    {
      "cell_type": "code",
      "source": [
        "print(12 * 12)\n",
        "\n",
        "print(-5 * 8)\n",
        "\n",
        "print(-45 * -3)\n",
        "\n",
        "print(0.123 * -0.9)"
      ],
      "metadata": {
        "colab": {
          "base_uri": "https://localhost:8080/"
        },
        "id": "b6jWTXfiuImg",
        "outputId": "11b34b52-49b4-4d90-888e-c7a389bea39a"
      },
      "execution_count": null,
      "outputs": [
        {
          "output_type": "stream",
          "name": "stdout",
          "text": [
            "144\n",
            "-40\n",
            "135\n",
            "-0.1107\n"
          ]
        }
      ]
    },
    {
      "cell_type": "markdown",
      "source": [
        "## División"
      ],
      "metadata": {
        "id": "rU6JM3xut_0u"
      }
    },
    {
      "cell_type": "code",
      "source": [
        "print(45 / 3)\n",
        "\n",
        "print(334 / 1234)\n",
        "\n",
        "print(-2840 / 23)\n",
        "\n",
        "print(-12 / -4)"
      ],
      "metadata": {
        "colab": {
          "base_uri": "https://localhost:8080/"
        },
        "id": "xsK02vhmuI9Z",
        "outputId": "4e36517a-e1f8-41ab-ac0d-c88b8110b616"
      },
      "execution_count": null,
      "outputs": [
        {
          "output_type": "stream",
          "name": "stdout",
          "text": [
            "15.0\n",
            "0.2706645056726094\n",
            "-123.47826086956522\n",
            "3.0\n"
          ]
        }
      ]
    },
    {
      "cell_type": "markdown",
      "source": [
        "## Exponencial"
      ],
      "metadata": {
        "id": "lqbSi79euBKa"
      }
    },
    {
      "cell_type": "code",
      "source": [
        "print(2 ** 2)\n",
        "\n",
        "print(-2 ** -2)\n",
        "\n",
        "print(6 ** -2)\n",
        "\n",
        "print(-2 ** 3)"
      ],
      "metadata": {
        "colab": {
          "base_uri": "https://localhost:8080/"
        },
        "id": "yL-N-NzBuJPU",
        "outputId": "3c785a34-14de-46cf-d87b-4abe36522b54"
      },
      "execution_count": null,
      "outputs": [
        {
          "output_type": "stream",
          "name": "stdout",
          "text": [
            "4\n",
            "-0.25\n",
            "0.027777777777777776\n",
            "-8\n"
          ]
        }
      ]
    },
    {
      "cell_type": "markdown",
      "source": [
        "# Ejercicios\n",
        "\n"
      ],
      "metadata": {
        "id": "kGn9oNVTwUjv"
      }
    },
    {
      "cell_type": "markdown",
      "source": [
        "Ejercicio 1: Calcular Área y Perímetro\n",
        "\n",
        "Escribe un programa en Python que calcule el área y el perímetro de un rectángulo. Solicita al usuario que ingrese el largo y el ancho como valores numéricos, luego calcula y muestra el área y el perímetro.\n",
        "\n",
        "**TIP: Recuerda que existen funciones para que los usuarios ingresen un input.**\n"
      ],
      "metadata": {
        "id": "9XEbKFwOxQoz"
      }
    },
    {
      "cell_type": "code",
      "source": [],
      "metadata": {
        "id": "KMDXhO-wxWfV"
      },
      "execution_count": null,
      "outputs": []
    },
    {
      "cell_type": "markdown",
      "source": [
        "Ejercicio 2: Conversión de Temperatura\n",
        "\n",
        "Escribe un programa que convierta una temperatura dada en grados Celsius a grados Fahrenheit. Solicita al usuario ingresar una temperatura en grados Celsius como un valor numérico, luego conviértela a grados Fahrenheit utilizando la fórmula: $Fahrenheit = (Celsius * \\frac{9}{5}) + 32$. Muestra la temperatura convertida."
      ],
      "metadata": {
        "id": "ti-etN7exUj0"
      }
    },
    {
      "cell_type": "code",
      "source": [],
      "metadata": {
        "id": "1dhSyJZYxXD6"
      },
      "execution_count": null,
      "outputs": []
    },
    {
      "cell_type": "markdown",
      "source": [
        "Ejercicio 3: Cálculo de Interés Compuesto\n",
        "\n",
        "Escribe un programa en Python que calcule el valor futuro de una inversión con interés compuesto. Solicita al usuario que ingrese la cantidad principal, la tasa de interés (como decimal) y el número de años. Calcula y muestra el valor futuro de la inversión utilizando la fórmula: $Valor Futuro = Principal * (1 + Tasa de Interés)^{Número de Años}$."
      ],
      "metadata": {
        "id": "sr-DxTnaxdwG"
      }
    },
    {
      "cell_type": "code",
      "source": [],
      "metadata": {
        "id": "FV02fCGOxglM"
      },
      "execution_count": null,
      "outputs": []
    },
    {
      "cell_type": "markdown",
      "source": [
        "Ejercicio 4: Secuencia de Fibonacci\n",
        "\n",
        "Escribe un programa en Python que genere la secuencia de Fibonacci hasta un número dado de términos. Solicita al usuario ingresar el número de términos de la secuencia y luego genera y muestra la secuencia de Fibonacci."
      ],
      "metadata": {
        "id": "e_XGJEgWxel4"
      }
    },
    {
      "cell_type": "code",
      "source": [],
      "metadata": {
        "id": "hgDsy3VNxg7r"
      },
      "execution_count": null,
      "outputs": []
    },
    {
      "cell_type": "markdown",
      "source": [
        "\n",
        "Ejercicio 5: Solucionador de Ecuaciones Cuadráticas\n",
        "\n",
        "Escribe un programa en Python que resuelva una ecuación cuadrática de la forma $ax^2 + bx + c = 0$. Solicita al usuario ingresar los valores de los coeficientes a, b y c. Calcula y muestra las soluciones de la ecuación cuadrática."
      ],
      "metadata": {
        "id": "ZXZuzjK__hSb"
      }
    },
    {
      "cell_type": "code",
      "source": [],
      "metadata": {
        "id": "hhU6PMbU_gyQ"
      },
      "execution_count": null,
      "outputs": []
    },
    {
      "cell_type": "markdown",
      "source": [
        "Ejercicio 6: Verificador de Números Primos\n",
        "\n",
        "Escribe un programa en Python que verifique si un número dado es primo. Solicita al usuario ingresar un número y determina si es un número primo. Muestra un mensaje indicando si el número es primo o no."
      ],
      "metadata": {
        "id": "Ww5BID51_947"
      }
    },
    {
      "cell_type": "code",
      "source": [],
      "metadata": {
        "id": "wq43FOdl_-U_"
      },
      "execution_count": null,
      "outputs": []
    },
    {
      "cell_type": "markdown",
      "source": [
        "Ejercicio 7: Cálculo del Factorial\n",
        "\n",
        "Escribe un programa en Python que calcule el factorial de un número dado. Solicita al usuario ingresar un número entero positivo, luego calcula y muestra su factorial. El factorial de un número n se denota como n! y es el producto de todos los enteros positivos menores o iguales a n."
      ],
      "metadata": {
        "id": "LFgd-hryANOX"
      }
    },
    {
      "cell_type": "markdown",
      "source": [
        "# Soluciones\n",
        "\n",
        "**Recuerda que hay más d una posible solución, de modo que debes de corroborar los resultados por tu propia cuenta.**"
      ],
      "metadata": {
        "id": "AMiICxJMjS0U"
      }
    },
    {
      "cell_type": "code",
      "source": [
        "# Solicitar al usuario ingresar el largo y el ancho del rectángulo\n",
        "largo = float(input(\"Ingrese el largo del rectángulo: \"))\n",
        "ancho = float(input(\"Ingrese el ancho del rectángulo: \"))\n",
        "\n",
        "# Calcular el área y el perímetro\n",
        "area = largo * ancho\n",
        "perimetro = 2 * (largo + ancho)\n",
        "\n",
        "# Mostrar el resultado\n",
        "print(\"El área del rectángulo es:\", area)\n",
        "print(\"El perímetro del rectángulo es:\", perimetro)\n"
      ],
      "metadata": {
        "colab": {
          "base_uri": "https://localhost:8080/"
        },
        "id": "mtPligTYjUu0",
        "outputId": "adbfc1ac-efcc-4963-a74e-d3e9ab23b0b8"
      },
      "execution_count": null,
      "outputs": [
        {
          "output_type": "stream",
          "name": "stdout",
          "text": [
            "Ingrese el largo del rectángulo: 5\n",
            "Ingrese el ancho del rectángulo: 9\n",
            "El área del rectángulo es: 45.0\n",
            "El perímetro del rectángulo es: 28.0\n"
          ]
        }
      ]
    },
    {
      "cell_type": "code",
      "source": [
        "# Solicitar al usuario ingresar la temperatura en grados Celsius\n",
        "celsius = float(input(\"Ingrese la temperatura en grados Celsius: \"))\n",
        "\n",
        "# Convertir la temperatura a grados Fahrenheit\n",
        "fahrenheit = (celsius * 9/5) + 32\n",
        "\n",
        "# Mostrar la temperatura convertida\n",
        "print(\"La temperatura en grados Fahrenheit es:\", fahrenheit)\n"
      ],
      "metadata": {
        "colab": {
          "base_uri": "https://localhost:8080/"
        },
        "id": "QNTVeAhNjaU4",
        "outputId": "85ee5d04-cfe1-43c6-cf87-8048a1b96fe3"
      },
      "execution_count": null,
      "outputs": [
        {
          "output_type": "stream",
          "name": "stdout",
          "text": [
            "Ingrese la temperatura en grados Celsius: 31\n",
            "La temperatura en grados Fahrenheit es: 87.8\n"
          ]
        }
      ]
    },
    {
      "cell_type": "code",
      "source": [
        "# Solicitar al usuario ingresar la cantidad principal, la tasa de interés y el número de años\n",
        "principal = float(input(\"Ingrese la cantidad principal: \"))\n",
        "interest_rate = float(input(\"Ingrese la tasa de interés (como decimal): \"))\n",
        "years = int(input(\"Ingrese el número de años: \"))\n",
        "\n",
        "# Calcular el valor futuro de la inversión\n",
        "future_value = principal * (1 + interest_rate) ** years\n",
        "\n",
        "# Mostrar el valor futuro de la inversión\n",
        "print(\"El valor futuro de la inversión es:\", future_value)"
      ],
      "metadata": {
        "colab": {
          "base_uri": "https://localhost:8080/"
        },
        "id": "5ImUD7zbjJkl",
        "outputId": "1e933439-6c97-4875-93c5-90905e76c9b9"
      },
      "execution_count": null,
      "outputs": [
        {
          "output_type": "stream",
          "name": "stdout",
          "text": [
            "Ingrese la cantidad principal: 100.0\n",
            "Ingrese la tasa de interés (como decimal): 0.10\n",
            "Ingrese el número de años: 15\n",
            "El valor futuro de la inversión es: 417.7248169415656\n"
          ]
        }
      ]
    },
    {
      "cell_type": "code",
      "source": [
        "# Solicitar al usuario ingresar el número de términos\n",
        "num_terms = int(input(\"Ingrese el número de términos: \"))\n",
        "\n",
        "# Inicializar los primeros dos términos de la secuencia\n",
        "term1 = 0\n",
        "term2 = 1\n",
        "\n",
        "# Mostrar los primeros dos términos\n",
        "print(\"Secuencia de Fibonacci:\")\n",
        "print(term1)\n",
        "print(term2)\n",
        "\n",
        "# Generar y mostrar los términos restantes\n",
        "for i in range(2, num_terms):\n",
        "    next_term = term1 + term2\n",
        "    print(next_term)\n",
        "    term1 = term2\n",
        "    term2 = next_term\n"
      ],
      "metadata": {
        "colab": {
          "base_uri": "https://localhost:8080/"
        },
        "id": "Ygry-zAOj0oM",
        "outputId": "5111b8f9-9510-4983-ec8b-03e8326a4445"
      },
      "execution_count": null,
      "outputs": [
        {
          "output_type": "stream",
          "name": "stdout",
          "text": [
            "Ingrese el número de términos: 10\n",
            "Secuencia de Fibonacci:\n",
            "0\n",
            "1\n",
            "1\n",
            "2\n",
            "3\n",
            "5\n",
            "8\n",
            "13\n",
            "21\n",
            "34\n"
          ]
        }
      ]
    },
    {
      "cell_type": "code",
      "source": [
        "import math\n",
        "\n",
        "a = float(input(\"Enter the coefficient a: \"))\n",
        "b = float(input(\"Enter the coefficient b: \"))\n",
        "c = float(input(\"Enter the coefficient c: \"))\n",
        "\n",
        "discriminant = b**2 - 4*a*c\n",
        "\n",
        "if discriminant > 0:\n",
        "    x1 = (-b + math.sqrt(discriminant)) / (2*a)\n",
        "    x2 = (-b - math.sqrt(discriminant)) / (2*a)\n",
        "    print(\"Solutions:\", x1, x2)\n",
        "elif discriminant == 0:\n",
        "    x = -b / (2*a)\n",
        "    print(\"Solution:\", x)\n",
        "else:\n",
        "    print(\"No real solutions\")\n"
      ],
      "metadata": {
        "colab": {
          "base_uri": "https://localhost:8080/"
        },
        "id": "RricFcSz_0v1",
        "outputId": "3c8bebb6-1d86-4a07-ec14-08d41671ca54"
      },
      "execution_count": 1,
      "outputs": [
        {
          "output_type": "stream",
          "name": "stdout",
          "text": [
            "Enter the coefficient a: 2\n",
            "Enter the coefficient b: 1\n",
            "Enter the coefficient c: 0\n",
            "Solutions: 0.0 -0.5\n"
          ]
        }
      ]
    },
    {
      "cell_type": "code",
      "source": [
        "num = int(input(\"Enter a number: \"))\n",
        "\n",
        "is_prime = True\n",
        "\n",
        "if num < 2:\n",
        "    is_prime = False\n",
        "else:\n",
        "    for i in range(2, int(math.sqrt(num)) + 1):\n",
        "        if num % i == 0:\n",
        "            is_prime = False\n",
        "            break\n",
        "\n",
        "if is_prime:\n",
        "    print(\"The number is prime\")\n",
        "else:\n",
        "    print(\"The number is not prime\")\n"
      ],
      "metadata": {
        "colab": {
          "base_uri": "https://localhost:8080/"
        },
        "id": "X1yfr0KDAIZ6",
        "outputId": "468da618-aaa5-4494-bbf0-5c6bb94be665"
      },
      "execution_count": 2,
      "outputs": [
        {
          "output_type": "stream",
          "name": "stdout",
          "text": [
            "Enter a number: 12\n",
            "The number is not prime\n"
          ]
        }
      ]
    },
    {
      "cell_type": "code",
      "source": [
        "num = int(input(\"Enter a positive integer: \"))\n",
        "\n",
        "factorial = 1\n",
        "\n",
        "if num < 0:\n",
        "    print(\"Invalid input. Please enter a positive integer.\")\n",
        "else:\n",
        "    for i in range(1, num + 1):\n",
        "        factorial *= i\n",
        "\n",
        "    print(\"Factorial:\", factorial)\n"
      ],
      "metadata": {
        "colab": {
          "base_uri": "https://localhost:8080/"
        },
        "id": "JY0R1_tjAT9d",
        "outputId": "057081d1-216c-4ca4-cc90-5d4cd8b0d99b"
      },
      "execution_count": 4,
      "outputs": [
        {
          "output_type": "stream",
          "name": "stdout",
          "text": [
            "Enter a positive integer: 12\n",
            "Factorial: 479001600\n"
          ]
        }
      ]
    }
  ]
}