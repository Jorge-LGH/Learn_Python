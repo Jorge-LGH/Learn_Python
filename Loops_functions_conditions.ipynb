{
  "nbformat": 4,
  "nbformat_minor": 0,
  "metadata": {
    "colab": {
      "provenance": [],
      "toc_visible": true,
      "authorship_tag": "ABX9TyPUhOYKvBYES/UxI75L2vyO",
      "include_colab_link": true
    },
    "kernelspec": {
      "name": "python3",
      "display_name": "Python 3"
    },
    "language_info": {
      "name": "python"
    }
  },
  "cells": [
    {
      "cell_type": "markdown",
      "metadata": {
        "id": "view-in-github",
        "colab_type": "text"
      },
      "source": [
        "<a href=\"https://colab.research.google.com/github/Jorge-LGH/Learn_Python/blob/main/Loops_functions_conditions.ipynb\" target=\"_parent\"><img src=\"https://colab.research.google.com/assets/colab-badge.svg\" alt=\"Open In Colab\"/></a>"
      ]
    },
    {
      "cell_type": "markdown",
      "source": [
        "**En teoría, todos los lectores de este trabajo tienen experiencia con R, así que solo se dará una breve explicación de los conceptos aquí presentados.**"
      ],
      "metadata": {
        "id": "UuRcJZgLjVPI"
      }
    },
    {
      "cell_type": "markdown",
      "source": [
        "# For loops\n",
        "\n",
        "Los For loops en Python son usados para iterar sobre una secuencia de elementos como listas, tuplas, strings o diccionarios. Permiten ejecutar pedazos de código repetidamente para cada elemento. La sintaxis general es la siguiente."
      ],
      "metadata": {
        "id": "mXcTQGJvFJ_3"
      }
    },
    {
      "cell_type": "markdown",
      "source": [
        "```python\n",
        "for item in sequence:\n",
        "    # Código a ejecutar\n",
        "```"
      ],
      "metadata": {
        "id": "whcmXZN-IGCL"
      }
    },
    {
      "cell_type": "markdown",
      "source": [
        "Es importante notar que el orden de los elementos es tal cual el que se señala de manera previoa y que objetos como diccionarios iteran sobre llaves, no sobre elementos dentro de los mismos. Por este motivo es necesario saber qué se va a interar, el número de veces y qué se desea hacer.\n"
      ],
      "metadata": {
        "id": "luMtaCmgIXc0"
      }
    },
    {
      "cell_type": "code",
      "source": [
        "# For loop sobre un rango\n",
        "\n",
        "for i in range (0,5):  # i itera sobre una lista de elementos [0,1,2,3,4]\n",
        "  print(\"Estoy en el loop\", i)"
      ],
      "metadata": {
        "colab": {
          "base_uri": "https://localhost:8080/"
        },
        "id": "XHUCuEa1IvOi",
        "outputId": "8bcff4f5-b4cb-4213-c6a7-e09c86ea303c"
      },
      "execution_count": 2,
      "outputs": [
        {
          "output_type": "stream",
          "name": "stdout",
          "text": [
            "Estoy en el loop 0\n",
            "Estoy en el loop 1\n",
            "Estoy en el loop 2\n",
            "Estoy en el loop 3\n",
            "Estoy en el loop 4\n"
          ]
        }
      ]
    },
    {
      "cell_type": "markdown",
      "source": [
        "Como podemos ver, en este caso se itera sobre la llave, es decir que a menos que generemos el código adecuado, los valores de cada llave son omitidos."
      ],
      "metadata": {
        "id": "Fapt3eJ_J6fh"
      }
    },
    {
      "cell_type": "code",
      "source": [
        "# For loop en un diccionario\n",
        "\n",
        "dict1 = {\"brand\": \"Ford\",\n",
        "         \"model\": \"Mustang\",\n",
        "         \"year\": 1964}\n",
        "\n",
        "for i in dict1:\n",
        "  print(i)"
      ],
      "metadata": {
        "colab": {
          "base_uri": "https://localhost:8080/"
        },
        "id": "Hq9_dMlcJDdM",
        "outputId": "3404d314-bb51-4312-ede4-349ce53754f4"
      },
      "execution_count": 3,
      "outputs": [
        {
          "output_type": "stream",
          "name": "stdout",
          "text": [
            "brand\n",
            "model\n",
            "year\n"
          ]
        }
      ]
    },
    {
      "cell_type": "markdown",
      "source": [
        "# Special logic commands"
      ],
      "metadata": {
        "id": "_9xjgS5ZNIoR"
      }
    },
    {
      "cell_type": "markdown",
      "source": [
        "## Pass\n",
        "\n",
        "Esta palabra reservada es usada mayoritariamente como un elemento temporal que ocupa el lugar de código que no ha sido escrito. En ocasiones no podemos dejar una iteración sin ejecutar código, por lo que usamos `pass` para que el código simplemenete no ejecute una acción.\n",
        "\n",
        "En el siguiente ejemplo podemos ver que, cuando se cumple la condición establecida, no se ejecuta ningún código, pero el For loop sigue iterando hasta terminar."
      ],
      "metadata": {
        "id": "Z1TOEOf8NLo4"
      }
    },
    {
      "cell_type": "code",
      "source": [
        "var = [0,10,20,3,40,5]\n",
        "\n",
        "for i in var:\n",
        "  if i > 10:\n",
        "      pass\n",
        "  else:\n",
        "    print(i)"
      ],
      "metadata": {
        "colab": {
          "base_uri": "https://localhost:8080/"
        },
        "id": "dChuscq9PfTw",
        "outputId": "2f232437-3287-464f-b388-32b97dd6ba45"
      },
      "execution_count": 4,
      "outputs": [
        {
          "output_type": "stream",
          "name": "stdout",
          "text": [
            "0\n",
            "10\n",
            "3\n",
            "5\n"
          ]
        }
      ]
    },
    {
      "cell_type": "markdown",
      "source": [
        "## Continue\n",
        "\n",
        "En este caso, `continue` es usado para saltar el código restante de un bloque y permitiendo que la iteración continúe. Dicho de otra manera, podemos hacer que el código sea saltado siempre y cuando haya un `continue` previo.\n",
        "\n",
        "Podemos ver que en el siguiente código la condición es cumplida, lo cual hace que se omita el código posterior, pero permite que el loop siga iterando."
      ],
      "metadata": {
        "id": "wSVZfUgeQjeP"
      }
    },
    {
      "cell_type": "code",
      "source": [
        "for i in range(10):\n",
        "  if i == 5:\n",
        "    continue\n",
        "  print(i)"
      ],
      "metadata": {
        "colab": {
          "base_uri": "https://localhost:8080/"
        },
        "id": "GQNLL3pzf2oc",
        "outputId": "7658c160-9f3b-4401-e877-0365dbdb1a07"
      },
      "execution_count": 5,
      "outputs": [
        {
          "output_type": "stream",
          "name": "stdout",
          "text": [
            "0\n",
            "1\n",
            "2\n",
            "3\n",
            "4\n",
            "6\n",
            "7\n",
            "8\n",
            "9\n"
          ]
        }
      ]
    },
    {
      "cell_type": "markdown",
      "source": [
        "## Break\n",
        "\n",
        "Tal como señala su nombre, la palabra reservada `break` rompe el loop; no permite que nada más se corra después de su aparición.\n",
        "\n",
        "En el siguiente ejemplo podemos observar que en lugar de iterar sobre 10 elementos, el suo de `break` solo permite al loop iterar sobre 5."
      ],
      "metadata": {
        "id": "1J2c5K_3gN3p"
      }
    },
    {
      "cell_type": "code",
      "source": [
        "for num in range(0,10):\n",
        "    if num == 5:\n",
        "        break\n",
        "    print(num)"
      ],
      "metadata": {
        "colab": {
          "base_uri": "https://localhost:8080/"
        },
        "id": "klFryyARhr1M",
        "outputId": "5843a8f9-2e4a-4b60-fa14-a125ef2b4dd0"
      },
      "execution_count": 6,
      "outputs": [
        {
          "output_type": "stream",
          "name": "stdout",
          "text": [
            "0\n",
            "1\n",
            "2\n",
            "3\n",
            "4\n"
          ]
        }
      ]
    },
    {
      "cell_type": "markdown",
      "source": [
        "# While loops\n",
        "\n",
        "Así como los for loops, los while loops nos permiten iterar código sobre una serie de elementos; sin embargo, tiene una diferencia importante. Los while loops requieren de condicionales, es decir, necesitan evaluar una condición lógica cada iteración para determinar si el ciclo sigue o se detiene.\n",
        "\n",
        "Al generar una evaluación cada ciclo, es necesario hacer que nuestro condicional cambie, pues de otro modo nos enonctraremos con loops que jamás terminarían. La sintaxis general se asemeja a los for loops.\n"
      ],
      "metadata": {
        "id": "bG43xH6TFhZ8"
      }
    },
    {
      "cell_type": "markdown",
      "source": [
        "```python\n",
        "while condition:\n",
        "    # Código a ejecutar\n",
        "```"
      ],
      "metadata": {
        "id": "vh9um3S4kRFx"
      }
    },
    {
      "cell_type": "markdown",
      "source": [
        "Podemos ver un ejemplo de un while loop a continuación."
      ],
      "metadata": {
        "id": "V6ukIoP1kbyH"
      }
    },
    {
      "cell_type": "code",
      "source": [
        "count = 0 # contador inicial\n",
        "\n",
        "while count < 5: # condición\n",
        "    print(\"Count:\", count)\n",
        "    count += 1 # cambio en contador inicial para evitar un loop sin fin"
      ],
      "metadata": {
        "colab": {
          "base_uri": "https://localhost:8080/"
        },
        "id": "PgyRRx3ukgnn",
        "outputId": "0c7f84f8-8356-46dd-fbab-7bfef1e1d762"
      },
      "execution_count": 7,
      "outputs": [
        {
          "output_type": "stream",
          "name": "stdout",
          "text": [
            "Count: 0\n",
            "Count: 1\n",
            "Count: 2\n",
            "Count: 3\n",
            "Count: 4\n"
          ]
        }
      ]
    },
    {
      "cell_type": "markdown",
      "source": [
        "# Logic statements\n",
        "\n",
        "En programación, como debes de saber, usamos elementos de lógica y álgebra Booleana para poder establecer criterios y condiciones que nos facilitan trabajar. Se presenta una tabla para recordar un poco estos elementos.\n",
        "\n",
        "| Operador    | Descripción | Ejemplo  | Resultado\n",
        "| ----------- | ----------- | ------------ | --------- |\n",
        "| ==      |  igual a   | ```1 == 1``` | ```True``` |\n",
        "| != | no igual a |   ```1 != 1``` | ```False``` |\n",
        "| >=   |  mayor o igual que   |    ```5 >= 1 ``` | ```True``` |\n",
        "| <= | menor o igual que |    ```1 <= 1 ``` | ```True``` |\n",
        "| > | mayor que | ```1 > 3``` | ```False``` |\n",
        "| < | menor que | ```1 < 3``` | ```True``` |\n",
        "\n",
        "| Operador    | Descripción | Ejemplo | Resultado\n",
        "| ----------- | ----------- | ------------ | ---------- |\n",
        "| and   |  múltiples afirmaciones deben ser verdaderas | ```1==1 and 2==1 ```   | ```False``` |\n",
        "| or | solo una afirmación debe ser verdadera |```1==1 or 2==1 ```   | ```True``` |\n",
        "| not   |  la declaración debe ser negativa | ```not(1==1) ```    |  ```False``` |\n",
        "| is | determina si se refiere al mismo objeto| ```int(1) is int(1)```  |  ```True``` |\n",
        "| is not | determina si se habla de objetos diferentes  | ```int(1) is not float(1)```|  ```True``` |\n",
        "| in | determina si un elemento se encuentra dentro de otro  | ```'a' in ['a','b','c]``` |  ```True``` |\n",
        "| not in | determina si un elemento NO se encuentra dentro de otro |```'f' not in ['a','b','c]```  |  ```True``` |"
      ],
      "metadata": {
        "id": "rOFuG6wLlkIo"
      }
    },
    {
      "cell_type": "markdown",
      "source": [
        "# If statements\n",
        "\n",
        "Los condicionales If son usados para evaluar alguna condición determinada por el usuario, de modo que una vez que se cumple, o no, se ejecute el código que sea necesario. Dicho de otra manera, estos condicionales son usados para controloar el flujo de toma de decisiones basado en si el condicional es *True* o *False*. Por lo general son usados en conjunto a los ciclos for y/o while, pues ayudan en la automatización de procesos."
      ],
      "metadata": {
        "id": "LOdZP6wSFkO-"
      }
    },
    {
      "cell_type": "markdown",
      "source": [
        "```python\n",
        "if condition:\n",
        "  # Código a ejecutar\n",
        "```"
      ],
      "metadata": {
        "id": "fY4_vOORdVO1"
      }
    },
    {
      "cell_type": "code",
      "source": [
        "list1 = [1,2,3,4]\n",
        "\n",
        "for item in list1:\n",
        "  if item == 2:\n",
        "    print(\"Este es un ejemplo de un condicional if\")"
      ],
      "metadata": {
        "colab": {
          "base_uri": "https://localhost:8080/"
        },
        "id": "SKN0ejNOdpfH",
        "outputId": "7c0ab5cc-236f-470d-995b-32c410413021"
      },
      "execution_count": 8,
      "outputs": [
        {
          "output_type": "stream",
          "name": "stdout",
          "text": [
            "Este es un ejemplo de un condicional if\n"
          ]
        }
      ]
    },
    {
      "cell_type": "markdown",
      "source": [
        "Adicionalmente, podemos evaluar diferentes condiciones con el uso de `else` o `elif`. Estas variantes nos ayudan a evaluar diversas condiciones dentro de una misma iteración, por lo que puede ser cada vez más complejo y preciso según se requiera."
      ],
      "metadata": {
        "id": "qQuVwabAd2K7"
      }
    },
    {
      "cell_type": "code",
      "source": [
        "x = [1,2,3,4,5,6]\n",
        "\n",
        "for item in x:\n",
        "  if item == 1:\n",
        "    print('item equals 1')\n",
        "  elif item == 2:\n",
        "    print('item equals 2')\n",
        "  elif item == 3:\n",
        "    print('item equals 3')\n",
        "  else:\n",
        "    print('item does not equal 1, 2, or 3')"
      ],
      "metadata": {
        "colab": {
          "base_uri": "https://localhost:8080/"
        },
        "id": "hFwfSwwsv_QW",
        "outputId": "8115f866-4797-40ba-a9b4-143c7eb3ca12"
      },
      "execution_count": 9,
      "outputs": [
        {
          "output_type": "stream",
          "name": "stdout",
          "text": [
            "item equals 1\n",
            "item equals 2\n",
            "item equals 3\n",
            "item does not equal 1, 2, or 3\n",
            "item does not equal 1, 2, or 3\n",
            "item does not equal 1, 2, or 3\n"
          ]
        }
      ]
    },
    {
      "cell_type": "markdown",
      "source": [
        "Otro punto importante, que seguramente ya es conocido para los lectores, es el uso de operadores para evaluar condiciones más complejas en una sola línea. Podemos ver en el siguiente caso cómo es que los usamos en Python."
      ],
      "metadata": {
        "id": "sAbe62PcxAAP"
      }
    },
    {
      "cell_type": "code",
      "source": [
        "x = [1,2,23,14,5,6,17,8,90,10]\n",
        "\n",
        "for item in x:\n",
        "  if item % 5 == 0 and item < 10 and item > 0: # Condición dice que el número debe de tener 0 residuo al ser dividido entre 5, debe ser menor a 10 y mayor que 0\n",
        "    print('item can only equal 5')\n",
        "  else:\n",
        "    print('item does not equal 5')"
      ],
      "metadata": {
        "colab": {
          "base_uri": "https://localhost:8080/"
        },
        "id": "UfhsAb1GxURh",
        "outputId": "94199f49-c590-4da3-a7db-ca639845859a"
      },
      "execution_count": 10,
      "outputs": [
        {
          "output_type": "stream",
          "name": "stdout",
          "text": [
            "item does not equal 5\n",
            "item does not equal 5\n",
            "item does not equal 5\n",
            "item does not equal 5\n",
            "item can only equal 5\n",
            "item does not equal 5\n",
            "item does not equal 5\n",
            "item does not equal 5\n",
            "item does not equal 5\n",
            "item does not equal 5\n"
          ]
        }
      ]
    },
    {
      "cell_type": "markdown",
      "source": [
        "# Functions\n",
        "\n",
        "Las funciones son uno de los elementos más importantes en la programación, pues nos permiten reutilizar código, mejorar procesos y establecer pipelines estandarizados que permiten a cualquier usuario obtener los mismos resultados una y oitra vez. Es por esto que resulta obvio pensar que Python tiene su propio formato para generar funciones.\n",
        "\n",
        "El formato para escribir funciones en Python es el siguiente.\n",
        "\n",
        "```python\n",
        "def function_name(inputs, args):\n",
        "    # Cuerpo de la función\n",
        "    # Código a ejecutar\n",
        "\n",
        "    # opcional: un return statement\n",
        "    return value\n",
        "```\n",
        "\n",
        "Aquí se introducen los *inputs*, *arguments* (`args`) y *return values*. Los inputs se refiere a los datos que debemos de introducir a la función para que esta corra. Los argumentos son parámetros, normalmente opcionales, que establecen los distintos modos que una función puede ejecutarse. Finalmente, podemos escoger los valores que resultan de nuestra función al usar la palabra clave `return`.\n",
        "\n",
        "En el siguiente ejemplo podemos ver una función que equivale a una suma de dos valores, de modo que tiene dos *inputs* sin algún argumento."
      ],
      "metadata": {
        "id": "XO9tRvA_FtfB"
      }
    },
    {
      "cell_type": "code",
      "source": [
        "# Función que suma\n",
        "\n",
        "def add_numbers(a, b):\n",
        "    sum = a + b\n",
        "    return(sum)\n",
        "\n",
        "add_numbers(2, 3)"
      ],
      "metadata": {
        "colab": {
          "base_uri": "https://localhost:8080/"
        },
        "id": "LDUh_iZs470K",
        "outputId": "999d17bf-ec0d-47c0-c4d9-6144fe0de4f2"
      },
      "execution_count": 11,
      "outputs": [
        {
          "output_type": "execute_result",
          "data": {
            "text/plain": [
              "5"
            ]
          },
          "metadata": {},
          "execution_count": 11
        }
      ]
    }
  ]
}