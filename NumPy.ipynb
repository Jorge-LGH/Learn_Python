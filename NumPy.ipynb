{
  "nbformat": 4,
  "nbformat_minor": 0,
  "metadata": {
    "colab": {
      "provenance": [],
      "toc_visible": true,
      "collapsed_sections": [
        "7qjjRX_1XRm5"
      ],
      "authorship_tag": "ABX9TyMVEwoFmWwSLPShHlkKp99T",
      "include_colab_link": true
    },
    "kernelspec": {
      "name": "python3",
      "display_name": "Python 3"
    },
    "language_info": {
      "name": "python"
    }
  },
  "cells": [
    {
      "cell_type": "markdown",
      "metadata": {
        "id": "view-in-github",
        "colab_type": "text"
      },
      "source": [
        "<a href=\"https://colab.research.google.com/github/Jorge-LGH/Learn_Python/blob/main/NumPy.ipynb\" target=\"_parent\"><img src=\"https://colab.research.google.com/assets/colab-badge.svg\" alt=\"Open In Colab\"/></a>"
      ]
    },
    {
      "cell_type": "markdown",
      "source": [
        "**Este repositorio está basado en el trabajo de Luis Aguilera y el laboratorio del grupo de investigación de Brian Munsky en CSU. Puedes encontrar el trabajo original [aquí](https://colab.research.google.com/drive/1ITCQX6XWcnxGysxLx1ROdMhwGwoLbLtZ?usp=sharing).**\n",
        "\n",
        "**La guía oficial de la librería puede ser encontrada en su propio [sitio](https://numpy.org).**"
      ],
      "metadata": {
        "id": "oHBuifsdINc0"
      }
    },
    {
      "cell_type": "markdown",
      "source": [
        "# NumPy\n",
        "\n",
        "NumPy (*Numerical Python*) es uno de los paquetes científicos más utlizados en Python para la manipulación de objetos multidimensionales como *arrays*. Su uso principal es la manipulación de estos objetos multidimensionales para poder ejecutar procesos de álgebra linear; usa matrices y vectores de *n* dimensiones, lo cual resulta en objetos complejos.\n",
        "\n",
        "<img src = \"https://media.springernature.com/full/springer-static/image/art%3A10.1038%2Fs41586-020-2649-2/MediaObjects/41586_2020_2649_Fig1_HTML.png?as=webp\">\n",
        "\n",
        "NumPy es usado en varias áreas del conocimiento como álgebra linear, análisis de datos, *machine learning* e investigación científica. Algunas de las aplicaciones en álgebra linear más comunes con NumPy son:\n",
        "\n",
        "- Operaciones de matrices\n",
        "- Operaciones de vectores\n",
        "- Cálculo de *Eigenvalues* y *Eigenvectors*\n",
        "- Etc.\n",
        "\n"
      ],
      "metadata": {
        "id": "hq3ikGO-LY01"
      }
    },
    {
      "cell_type": "markdown",
      "source": [
        "# NumPy básico"
      ],
      "metadata": {
        "id": "wAsl8ibiBbkR"
      }
    },
    {
      "cell_type": "markdown",
      "source": [
        "## Arrays\n",
        "\n",
        "Los arrays desempeñan un papel fundamental en la librería NumPy como una estructura de datos esencial. Permiten almacenar datos de manera eficiente, acceder a ubicaciones de forma rápida y se interpretan con facilidad. Los elementos dentro de los arrays deben de ser del mismo tipo.\n",
        "\n",
        "Los arrays pueden ser indexados con tuplas de *integers* positivos, valores booleanos o incluso otros arrays. La forma de los arrays es una tupla de *integers* que nos dan el tamaño del array en cada dimensión. Cabe aclarar que cada dimensión puede contener distintos datos dentro de cada una, de modo que saber qué representa cada dimensión es fundamental.\n",
        "\n",
        "A continuación podemos ver la estructura básica para generar arrays con una o varias listas."
      ],
      "metadata": {
        "id": "jfRFqioRB0fB"
      }
    },
    {
      "cell_type": "code",
      "execution_count": 2,
      "metadata": {
        "id": "8gJFZYgT4Co8",
        "colab": {
          "base_uri": "https://localhost:8080/"
        },
        "outputId": "efa5b418-ab80-4b00-a967-e90caf192f83"
      },
      "outputs": [
        {
          "output_type": "stream",
          "name": "stdout",
          "text": [
            "[1 2 3 4 5]\n",
            "Las dimensiones de este array son: (5,)\n"
          ]
        }
      ],
      "source": [
        "import numpy as np\n",
        "\n",
        "arr1 = np.array([1,2,3,4,5])\n",
        "print(arr1)\n",
        "print(\"Las dimensiones de este array son:\",arr1.shape)"
      ]
    },
    {
      "cell_type": "code",
      "source": [
        "arr2 = np.array([[7,2,3],[4,5,6],[1,2,3]])\n",
        "print(arr2)\n",
        "print(\"Las dimensiones de este array son:\",arr2.shape)"
      ],
      "metadata": {
        "colab": {
          "base_uri": "https://localhost:8080/"
        },
        "id": "dGjcNSbiFqgn",
        "outputId": "bd194a9e-cc61-4916-ed0e-e6b012ce5f43"
      },
      "execution_count": null,
      "outputs": [
        {
          "output_type": "stream",
          "name": "stdout",
          "text": [
            "[[7 2 3]\n",
            " [4 5 6]\n",
            " [1 2 3]]\n",
            "Las dimensiones de este array son: (3, 3)\n"
          ]
        }
      ]
    },
    {
      "cell_type": "markdown",
      "source": [
        "Tal como hemos aprendido previamente, podemos ejecutar indexing y slicing a este tipo de objetos. Es necesario recordar la manera particular que Python ejecuta su indexing dado que nuestro objeto ndarray (*N-dimensional array*) obedece este mismo indexing."
      ],
      "metadata": {
        "id": "Xcx1mHN_GC4a"
      }
    },
    {
      "cell_type": "code",
      "source": [
        "print(arr2[0]) # Primer elemento es una lista por sí misma\n",
        "\n",
        "print(arr2[1,2]) # Podemos acceder al tercer elemento dentro de nuestra segunda lista"
      ],
      "metadata": {
        "colab": {
          "base_uri": "https://localhost:8080/"
        },
        "id": "lUGOscqbGQH6",
        "outputId": "2a8cf009-4124-4570-f0db-117ab2377d33"
      },
      "execution_count": null,
      "outputs": [
        {
          "output_type": "stream",
          "name": "stdout",
          "text": [
            "[7 2 3]\n",
            "6\n"
          ]
        }
      ]
    },
    {
      "cell_type": "markdown",
      "source": [
        "## Array information\n",
        "\n",
        "Para obtener información básica de nuestros arrays, pero en extremo relevante, NumPy nos ofrece una cantidad de métodos utilizables para nuestros objetos. A continución se presenta una tabla con algunos de los métodos más comunes.\n",
        "\n",
        "| Método    | Descripción  | Resultado  |\n",
        "| ----------- | ----------- | ------------ |\n",
        "| arr.shape   | devuelve una tupla con el tamaño de cada dimensión | ```(1,5) ```   |\n",
        "| arr.ndim | número de dimensiones |```2 ```   |\n",
        "| arr.dtype   |  el tipo de dato de la información dentro del array | ```dtype('int64') ```    |\n",
        "| arr.size | número de elementos totales en este array | ```5```  |\n"
      ],
      "metadata": {
        "id": "3VvjxwVKHjra"
      }
    },
    {
      "cell_type": "code",
      "source": [
        "print(\"The array shape:\",arr2.shape)\n",
        "print(\"Dimensiones del array:\",arr2.ndim)\n",
        "print(\"Tipo de dato:\",arr2.dtype)\n",
        "print(\"Tamaño del array:\",arr2.size)"
      ],
      "metadata": {
        "colab": {
          "base_uri": "https://localhost:8080/"
        },
        "id": "K4Na5uLnRnt-",
        "outputId": "87e13e08-419d-4d9f-a867-7cfdea41aeb8"
      },
      "execution_count": null,
      "outputs": [
        {
          "output_type": "stream",
          "name": "stdout",
          "text": [
            "The array shape: (3, 3)\n",
            "Dimensiones del array: 2\n",
            "Tipo de dato: int64\n",
            "Tamaño del array: 9\n"
          ]
        }
      ]
    },
    {
      "cell_type": "markdown",
      "source": [
        "## Allocation methods\n",
        "\n",
        "Podemos generar arrays de modo rápido y eficiente con funciones habidas en NumPy. Esto puede ser útil cuando queremos practicar o para generar arrays de medidas específicas para un posterior almacenamiento de información.\n",
        "\n",
        "| Método    | Descripción  | Ejemplos  | Resultado |\n",
        "| ----------- | ----------- | ------------ | ------------ |\n",
        "| np.zeros([n1,n2...]) | Devuelve un array de ndim con ceros | ```np.zeros([10,10,10]) ```   | un array tridimensional (10 x 10 x 10) de ceros |\n",
        "| np.ones([n1,n2...]) | Devuelve un array de ndim con unos |```np.ones([3,5]) ```   | un array bidimensional (3 x 5) de unos |\n",
        "| np.array([n1,n2...]) | Convierte un objeto iterable en un array | ``np.array([1,2,3])``  | un array unidimensional [1,2,3] |\n",
        "| np.empty([n1,n2...]) | Un array de ndim vacío | ``` np.empty([3,3]) ```| un array vacío de (3 x 3)  |\n",
        "\n",
        "| Método    | Descripción  | Ejemplos  |\n",
        "| ----------- | ----------- | ------------ |\n",
        "| np.linspace(start, stop, n_steps) | devuelve un array con espaciado lineal desde el valor inicial hasta el valor final con un número de pasos | ```np.linspace(0,10,11) ```  |  \n",
        "| np.logspace(start, stop, n_steps) | devuelve un array con espaciado logarítmico desde 10^inicio hasta 10^final con un número de pasos | ``` np.logspace(0,10,11)```|\n",
        "| np.arange(stop,) | devuelve un array con espaciado lineal desde un valor inicial (o 0) hasta un valor final con pasos enteros (o tamaños de paso opcionales) | ``` np.arange(10)```|\n",
        "| np.eye(N)   | devuelve una matriz identidad de 2 dimensiones de tamaño NxN|  ```np.eye(3) ```   | una matriz identidad de (3 x 3) (las diagonales son 1) |"
      ],
      "metadata": {
        "id": "tvk0kVQ7I69I"
      }
    },
    {
      "cell_type": "code",
      "source": [
        "print(\"Matriz de 0's\")\n",
        "a = np.zeros([2,3,3])\n",
        "print(a)\n",
        "print(\"\")\n",
        "\n",
        "print(\"Matriz de 1's\")\n",
        "b = np.ones([2,5,2])\n",
        "print(b)\n",
        "print(\"\")"
      ],
      "metadata": {
        "colab": {
          "base_uri": "https://localhost:8080/"
        },
        "id": "Jadp9gNGSOtu",
        "outputId": "5ae9d0d8-c842-4b7a-a865-81baa07c0433"
      },
      "execution_count": null,
      "outputs": [
        {
          "output_type": "stream",
          "name": "stdout",
          "text": [
            "Matriz de 0's\n",
            "[[[0. 0. 0.]\n",
            "  [0. 0. 0.]\n",
            "  [0. 0. 0.]]\n",
            "\n",
            " [[0. 0. 0.]\n",
            "  [0. 0. 0.]\n",
            "  [0. 0. 0.]]]\n",
            "\n",
            "Matriz de 1's\n",
            "[[[1. 1.]\n",
            "  [1. 1.]\n",
            "  [1. 1.]\n",
            "  [1. 1.]\n",
            "  [1. 1.]]\n",
            "\n",
            " [[1. 1.]\n",
            "  [1. 1.]\n",
            "  [1. 1.]\n",
            "  [1. 1.]\n",
            "  [1. 1.]]]\n",
            "\n"
          ]
        }
      ]
    },
    {
      "cell_type": "markdown",
      "source": [
        "# Álgebra linear\n",
        "\n",
        "Ya que podemos usar los arrays como matrices, igualmente podemos ejecutar funciones de álgebra linear y operaciones aritméticas sobre dichas matrices. La gran mayoría de funciones de álgebra linear se encuentran en el módulo `np.linalg`."
      ],
      "metadata": {
        "id": "5bng6wtBJ4CS"
      }
    },
    {
      "cell_type": "markdown",
      "source": [
        "## Matrix operations\n",
        "\n",
        "A continuación podemos ver operaciones realizadas con matrices, tal como seguramente viste en clase de Biomatemáticas.\n",
        "\n",
        "| Operación                    | Sintaxis                          |\n",
        "| ---------------------------- | --------------------------------- |\n",
        "| Multiplicación de matrices    | `A @ B`                           |\n",
        "| Multiplicación elemento a elemento | `A * B`                        |\n",
        "| División de matrices          | `A @ np.linalg.pinv(B)`           |\n",
        "| División elemento a elemento  | `A / B`                           |\n",
        "| Multiplicación por escalar    | `n * A`                           |\n",
        "| Resta de matrices             | `A - B`                           |\n",
        "| Suma de matrices              | `A + B`                           |\n",
        "| Suma con escalar              | `n + A`                           |\n",
        "\n",
        "La obtención de Eigenvalues y Eigenvectors es igualmente importante.\n",
        "\n",
        "| Método    | Descripción  |\n",
        "| ----------- | ----------- |\n",
        "| np.linalg.eig | devuelve los eigenvalues y eigenvectors de una matriz |\n",
        "| np.linalg.eigvals | devuelve los eigenvalues de una matriz |"
      ],
      "metadata": {
        "id": "ZcSV51uHQ_sQ"
      }
    },
    {
      "cell_type": "code",
      "source": [
        "A = np.array([[1, 2],[2, 4]])\n",
        "\n",
        "B = np.array([[3, 65],[-2, .53]])\n",
        "\n",
        "print(\"Multiplicación de matrices\")\n",
        "print(A @ B)\n",
        "print(\" \")\n",
        "\n",
        "print(\"Multiplicaciónde elemento a elemento\")\n",
        "print(A * B)\n",
        "print(\" \")\n",
        "\n",
        "print(\"División de matrices\")\n",
        "print(A @ np.linalg.pinv(B))\n",
        "print(\" \")\n",
        "\n",
        "print(\"División a elemento\")\n",
        "print(A / B)\n",
        "print(\" \")\n",
        "\n",
        "print(\"Multiplicaciónde por escalar\")\n",
        "print(2 * A)\n",
        "print(\" \")\n",
        "\n",
        "print(\"Resta de matrices\")\n",
        "print(A - B)\n",
        "print(\" \")\n",
        "\n",
        "print(\"Suma de matrices\")\n",
        "print(A + B)\n",
        "print(\" \")\n",
        "\n",
        "print(\"Suma con escalar\")\n",
        "print(2 + A)\n",
        "print(\" \")\n",
        "\n",
        "print(\"Eigenvalores y Eigenvectores de una matriz\")\n",
        "print(np.linalg.eig(A))"
      ],
      "metadata": {
        "colab": {
          "base_uri": "https://localhost:8080/"
        },
        "id": "MgxIHE6bU2nb",
        "outputId": "7e651b60-162b-4925-e906-b38e01611b71"
      },
      "execution_count": null,
      "outputs": [
        {
          "output_type": "stream",
          "name": "stdout",
          "text": [
            "Multiplicación de matrices\n",
            "[[ -1.    66.06]\n",
            " [ -2.   132.12]]\n",
            " \n",
            "Multiplicaciónde elemento a elemento\n",
            "[[  3.   130.  ]\n",
            " [ -4.     2.12]]\n",
            " \n",
            "División de matrices\n",
            "[[ 0.03442511 -0.44836234]\n",
            " [ 0.06885022 -0.89672468]]\n",
            " \n",
            "División a elemento\n",
            "[[ 0.33333333  0.03076923]\n",
            " [-1.          7.54716981]]\n",
            " \n",
            "Multiplicaciónde por escalar\n",
            "[[2 4]\n",
            " [4 8]]\n",
            " \n",
            "Resta de matrices\n",
            "[[ -2.   -63.  ]\n",
            " [  4.     3.47]]\n",
            " \n",
            "Suma de matrices\n",
            "[[ 4.   67.  ]\n",
            " [ 0.    4.53]]\n",
            " \n",
            "Suma con escalar\n",
            "[[3 4]\n",
            " [4 6]]\n",
            " \n",
            "Eigenvalores y Eigenvectores de una matriz\n",
            "(array([0., 5.]), array([[-0.89442719, -0.4472136 ],\n",
            "       [ 0.4472136 , -0.89442719]]))\n"
          ]
        }
      ]
    },
    {
      "cell_type": "markdown",
      "source": [
        "## Algebraic functions\n",
        "\n",
        "A continuación podemos ver algunas funciones habidas en esta librería que nos ayudan a ejecutar operaciones matemáticas de álgebra linear.\n",
        "\n",
        "| Método    | Descripción  |\n",
        "| ----------- | ----------- |\n",
        "| np.cross | producto cruzado de vectores |\n",
        "| np.dot | producto punto de arrays |\n",
        "| np.linalg.det | determinante de una matriz |\n",
        "| np.linalg.inner | producto interno |\n",
        "| np.linalg.outer | producto externo |\n",
        "| np.matmul  | producto de matrices |\n",
        "| np.trace | traza de una matriz |\n",
        "| np.linalg.norm | norma de un vector o matriz, acepta argumentos para norma nuclear/frobenius |\n",
        "| np.linalg.matrix_rank | rango de una matriz |\n",
        "| np.linalg.cond | condición de una matriz |\n",
        "| np.linalg.inv  | inversa de una matriz (multiplicativa) |\n",
        "| np.linalg.pinv  | pseudoinversa de una matriz (Moore-Penrose) |\n",
        "| np.linalg.svd | Descomposición en valores singulares |\n",
        "| np.linalg.null* | Espacio nulo (null space) |\n"
      ],
      "metadata": {
        "id": "kCSig-JXXk7u"
      }
    },
    {
      "cell_type": "markdown",
      "source": [
        "# ODE's en Python\n",
        "\n",
        "A continuación presentamos cómo realizar modelos con ecuaciones diferenciales ordinarias. En teoría, como este repositorio es par alumnos de microbiología, ya deberías de tener una noción de cómo realizar este mismo proceso en R."
      ],
      "metadata": {
        "id": "0oynzJxIa45E"
      }
    },
    {
      "cell_type": "code",
      "source": [
        "#@title Modelo SIR\n",
        "import matplotlib.pyplot as plt\n",
        "from scipy.integrate import odeint\n",
        "\n",
        "def dSIR(x, t, beta, gamma, N):\n",
        "  dxdt = np.array([-beta*x[0]*x[1]/N,\n",
        "                   beta*x[0]*x[1]/N - gamma*x[1],\n",
        "                   gamma*x[1]])\n",
        "  return dxdt\n",
        "\n",
        "beta = 0.56\n",
        "gamma = 0.28\n",
        "initial_percent_infected = 0.033\n",
        "\n",
        "final_time = 500\n",
        "x0 = [.999, initial_percent_infected, 0]\n",
        "t_array = np.linspace(0,final_time,101)\n",
        "ode_soln = odeint(dSIR, x0, t_array, args=(beta, gamma, sum(x0)))\n",
        "\n",
        "plt.plot(t_array, ode_soln)\n",
        "plt.xlabel('Time')\n",
        "plt.ylabel('Fraction of Population')\n",
        "plt.legend(['susceptible', 'infected','recovered'])"
      ],
      "metadata": {
        "colab": {
          "base_uri": "https://localhost:8080/",
          "height": 466
        },
        "id": "BY90GxpPa9YI",
        "outputId": "9c754b14-ac22-4cf5-cdf2-12f406ca3a39"
      },
      "execution_count": null,
      "outputs": [
        {
          "output_type": "execute_result",
          "data": {
            "text/plain": [
              "<matplotlib.legend.Legend at 0x7fe8b85ff970>"
            ]
          },
          "metadata": {},
          "execution_count": 59
        },
        {
          "output_type": "display_data",
          "data": {
            "text/plain": [
              "<Figure size 640x480 with 1 Axes>"
            ],
            "image/png": "[encoded data removed]"
          },
          "metadata": {}
        }
      ]
    },
    {
      "cell_type": "markdown",
      "source": [
        "# Ejercicios"
      ],
      "metadata": {
        "id": "ktkXJIrJXOng"
      }
    },
    {
      "cell_type": "markdown",
      "source": [
        "Ejercicio 1: Creación de un Array\n",
        "\n",
        "Crea un array de números enteros que vaya desde 1 hasta 10. Muestra el array resultante."
      ],
      "metadata": {
        "id": "CbMY1jS9XyTv"
      }
    },
    {
      "cell_type": "code",
      "source": [],
      "metadata": {
        "id": "N3WjRQMrX1pL"
      },
      "execution_count": null,
      "outputs": []
    },
    {
      "cell_type": "markdown",
      "source": [
        "Ejercicio 2: Operaciones con Arrays\n",
        "\n",
        "Realiza las siguientes operaciones:\n",
        "\n",
        "- Crea dos arrays de números enteros, uno con los valores [1, 2, 3] y otro con los valores [4, 5, 6].\n",
        "- Suma los dos arrays y muestra el resultado.\n",
        "- Crea un array de números enteros con los valores [1, 2, 3].\n",
        "- Calcula el cuadrado de cada elemento del array y muestra el resultado."
      ],
      "metadata": {
        "id": "cxjBhE1-X2PE"
      }
    },
    {
      "cell_type": "code",
      "source": [],
      "metadata": {
        "id": "LDPXVpHUYCHI"
      },
      "execution_count": null,
      "outputs": []
    },
    {
      "cell_type": "markdown",
      "source": [
        "Ejercicio 3: Manipulación de Arrays\n",
        "\n",
        "Realiza las siguientes manipulaciones de arrays utilizando la biblioteca NumPy:\n",
        "\n",
        "- Crea un array de números enteros con los valores [1, 2, 3, 4, 5]. Reemplaza el tercer elemento por el valor 10 y muestra el array resultante.\n",
        "- Crea un array de números enteros con los valores [1, 2, 3, 4, 5]. Invierte el orden de los elementos del array y muestra el resultado."
      ],
      "metadata": {
        "id": "KQnBphL4YDtE"
      }
    },
    {
      "cell_type": "code",
      "source": [],
      "metadata": {
        "id": "I-63vB2vYHtK"
      },
      "execution_count": null,
      "outputs": []
    },
    {
      "cell_type": "markdown",
      "source": [
        "Ejercicio 4: Producto de Matrices\n",
        "\n",
        "Utiliza la biblioteca NumPy para realizar el producto de dos matrices. Crea dos matrices de tamaño 2x3 y 3x2 con valores numéricos y calcula su producto. Muestra la matriz resultante.\n",
        "\n"
      ],
      "metadata": {
        "id": "6BZbI4cAYeLS"
      }
    },
    {
      "cell_type": "code",
      "source": [],
      "metadata": {
        "id": "18NdPiJ8Yhm6"
      },
      "execution_count": null,
      "outputs": []
    },
    {
      "cell_type": "markdown",
      "source": [
        "Ejercicio 5: Operaciones con Matrices\n",
        "\n",
        "Realiza las siguientes operaciones:\n",
        "\n",
        "- Crea una matriz de tamaño 3x3 con valores numéricos. Calcula la suma de todos los elementos de la matriz y muestra el resultado.\n",
        "- Crea una matriz de tamaño 3x3 con valores numéricos. Calcula la transpuesta de la matriz y muestra el resultado."
      ],
      "metadata": {
        "id": "Kf4TkTieYiGI"
      }
    },
    {
      "cell_type": "code",
      "source": [],
      "metadata": {
        "id": "X0NLOSPIYn3l"
      },
      "execution_count": null,
      "outputs": []
    },
    {
      "cell_type": "markdown",
      "source": [
        "Ejercicio 6: Modelo *Bursting gene*\n",
        "\n",
        "Genera y grafica un modelo con base en la siguiente imagen.\n",
        "\n",
        "<img src=\"https://raw.githubusercontent.com/Will-Raymond/uqbio2023/master/files/bursting_gene.png\" width=\"50%\" height=\"50%\">\n",
        "\n",
        "**Este ejercicio es tomado directamente del repositorio [*UQ-Bio Summerschool 2023*](https://colab.research.google.com/drive/1ITCQX6XWcnxGysxLx1ROdMhwGwoLbLtZ?usp=sharing)**"
      ],
      "metadata": {
        "id": "CtzswBcZZ9_l"
      }
    },
    {
      "cell_type": "code",
      "source": [],
      "metadata": {
        "id": "WsdczxAvafJe"
      },
      "execution_count": null,
      "outputs": []
    },
    {
      "cell_type": "markdown",
      "source": [
        "# Soluciones"
      ],
      "metadata": {
        "id": "7qjjRX_1XRm5"
      }
    },
    {
      "cell_type": "code",
      "source": [
        "array = np.arange(1, 11)\n",
        "\n",
        "print(\"Array creado:\", array)"
      ],
      "metadata": {
        "colab": {
          "base_uri": "https://localhost:8080/"
        },
        "id": "6FJSkB1CXi_T",
        "outputId": "eb7454d0-e95b-499c-cb52-1fd40485ec73"
      },
      "execution_count": 3,
      "outputs": [
        {
          "output_type": "stream",
          "name": "stdout",
          "text": [
            "Array creado: [ 1  2  3  4  5  6  7  8  9 10]\n"
          ]
        }
      ]
    },
    {
      "cell_type": "code",
      "source": [
        "array1 = np.array([1, 2, 3])\n",
        "array2 = np.array([4, 5, 6])\n",
        "\n",
        "suma = array1 + array2\n",
        "print(\"Suma de los arrays:\", suma)\n",
        "\n",
        "cuadrados = array1 ** 2\n",
        "print(\"Cuadrados de los elementos:\", cuadrados)\n"
      ],
      "metadata": {
        "colab": {
          "base_uri": "https://localhost:8080/"
        },
        "id": "568-2Nr8Xkiu",
        "outputId": "9db266df-28c8-44bc-e044-00807f5bdb8f"
      },
      "execution_count": 4,
      "outputs": [
        {
          "output_type": "stream",
          "name": "stdout",
          "text": [
            "Suma de los arrays: [5 7 9]\n",
            "Cuadrados de los elementos: [1 4 9]\n"
          ]
        }
      ]
    },
    {
      "cell_type": "code",
      "source": [
        "array = np.array([1, 2, 3, 4, 5])\n",
        "\n",
        "array[2] = 10\n",
        "print(\"Array con el tercer elemento reemplazado:\", array)\n",
        "\n",
        "array_reverso = array[::-1]\n",
        "print(\"Array con el orden invertido:\", array_reverso)\n"
      ],
      "metadata": {
        "colab": {
          "base_uri": "https://localhost:8080/"
        },
        "id": "bJEMlquKXssy",
        "outputId": "e0da880d-dab2-4ecc-8fe2-83f59539103a"
      },
      "execution_count": 5,
      "outputs": [
        {
          "output_type": "stream",
          "name": "stdout",
          "text": [
            "Array con el tercer elemento reemplazado: [ 1  2 10  4  5]\n",
            "Array con el orden invertido: [ 5  4 10  2  1]\n"
          ]
        }
      ]
    },
    {
      "cell_type": "code",
      "source": [
        "matriz1 = np.array([[1, 2, 3],\n",
        "                    [4, 5, 6]])\n",
        "\n",
        "matriz2 = np.array([[7, 8],\n",
        "                    [9, 10],\n",
        "                    [11, 12]])\n",
        "\n",
        "producto = np.dot(matriz1, matriz2)\n",
        "print(\"Producto de las matrices:\")\n",
        "print(producto)"
      ],
      "metadata": {
        "colab": {
          "base_uri": "https://localhost:8080/"
        },
        "id": "JBpwhRjGYVhA",
        "outputId": "7aceef2a-aaef-499e-8db0-26aa07f9856a"
      },
      "execution_count": 6,
      "outputs": [
        {
          "output_type": "stream",
          "name": "stdout",
          "text": [
            "Producto de las matrices:\n",
            "[[ 58  64]\n",
            " [139 154]]\n"
          ]
        }
      ]
    },
    {
      "cell_type": "code",
      "source": [
        "matriz = np.array([[1, 2, 3],\n",
        "                   [4, 5, 6],\n",
        "                   [7, 8, 9]])\n",
        "\n",
        "suma_total = np.sum(matriz)\n",
        "print(\"Suma de todos los elementos de la matriz:\", suma_total)\n",
        "\n",
        "transpuesta = np.transpose(matriz)\n",
        "print(\"Matriz transpuesta:\")\n",
        "print(transpuesta)"
      ],
      "metadata": {
        "colab": {
          "base_uri": "https://localhost:8080/"
        },
        "id": "UOU2IMtTYWbH",
        "outputId": "89612723-8598-4b5e-d447-b66c9fd74b92"
      },
      "execution_count": 7,
      "outputs": [
        {
          "output_type": "stream",
          "name": "stdout",
          "text": [
            "Suma de todos los elementos de la matriz: 45\n",
            "Matriz transpuesta:\n",
            "[[1 4 7]\n",
            " [2 5 8]\n",
            " [3 6 9]]\n"
          ]
        }
      ]
    },
    {
      "cell_type": "code",
      "source": [
        "import numpy as np\n",
        "from scipy.integrate import odeint\n",
        "import matplotlib.pyplot as plt\n",
        "\n",
        "def modelo_crecimiento(N, t, r):\n",
        "    dN_dt = r * N\n",
        "    return dN_dt\n",
        "\n",
        "N0 = 100  # Población inicial\n",
        "r = 0.1  # Tasa de crecimiento\n",
        "tiempo = np.linspace(0, 10, 100)  # Intervalo de tiempo\n",
        "\n",
        "solucion = odeint(modelo_crecimiento, N0, tiempo, args=(r,))\n",
        "\n",
        "plt.plot(tiempo, solucion[:, 0])\n",
        "plt.xlabel('Tiempo')\n",
        "plt.ylabel('Población')\n",
        "plt.title('Crecimiento de la Población')\n",
        "plt.show()\n"
      ],
      "metadata": {
        "colab": {
          "base_uri": "https://localhost:8080/",
          "height": 472
        },
        "id": "Q2vsfbGhZY62",
        "outputId": "b39d2228-4641-4968-db76-72e0346d28f1"
      },
      "execution_count": 8,
      "outputs": [
        {
          "output_type": "display_data",
          "data": {
            "text/plain": [
              "<Figure size 640x480 with 1 Axes>"
            ],
            "image/png": "[encoded data removed]"
          },
          "metadata": {}
        }
      ]
    },
    {
      "cell_type": "code",
      "source": [
        "# solving dx/dt = A*x + B\n",
        "import matplotlib.pyplot as plt # import matplotlib to plot\n",
        "from scipy.integrate import odeint # import scipy's ode integrator, odeint\n",
        "\n",
        "# lets define a function that describse dx/dt, the left hand side of our equation\n",
        "def bursting_gene_model(x, t, S, propensity_array, W0, parameters):\n",
        "  A = S @ propensity_array(x, t, parameters) # A*x where A = Stoichiometry matrix * propensity matrix\n",
        "  dxdt = A @ np.atleast_2d(x).T + W0(t) # definition of our ODE\n",
        "  return dxdt.flatten()\n",
        "\n",
        "## Lets define our models \"shape\" by allowing 4 types of reactions of 3 species and storing them in a matrix,\n",
        "#  the \"Stoichiometry\" matrix.\n",
        "#  Rxn 1:  gene_off --k_on--> gene_on w\n",
        "#  Rxn 2:  gene_on --k_off-->  gene_off\n",
        "#  Rxn 3:  gene_on --k_mRNA--> gene_on + mRNA (gene is on and made an mRNA)\n",
        "#  Rxn 4:  mRNA --gamma_mRNA--> 0  an mRNA decayed at rate gamma\n",
        "\n",
        "# Stoichiometry matrix\n",
        "\n",
        "           # N species by N rxns\n",
        "            # >on >off +mRNA -mRNA\n",
        "S = np.array([[-1,  1, 0,  0],  # gene off\n",
        "              [ 1, -1, 0,  0],  # gene on\n",
        "              [ 0,  0, 1, -1 ]])# mRNA\n",
        "\n",
        "# Propensity matrix\n",
        "def propensity_array(x, t, parameters):\n",
        "  par = parameters(t)\n",
        "          #  N rxns by N species\n",
        "  W1 = np.array( [[par[0], 0, 0], # k_on\n",
        "                  [0, par[1], 0], # k_off\n",
        "                  [0, par[2], 0], # k_mRNA\n",
        "                  [0, 0, par[3]]]) # gamma_mRNA\n",
        "  return W1\n",
        "\n",
        "# Note that (3x4) S @ (4x3) W1 = (3x3) A, our linear transition matrix\n",
        "# for dx/dt = A*x + W0\n",
        "\n",
        "# constant input array (none in this case)\n",
        "W0 = lambda t: np.array( [[0],\n",
        "                          [0],\n",
        "                          [0]])\n",
        "#@markdown $k_{on}$ - rate of genes turning on, 1/time\n",
        "k_on = .5 #@param {type:\"slider\", min:0, max:10, step:0.1}\n",
        "#@markdown $k_{off}$ - rate of genes turning off, 1/time\n",
        "k_off = .5 #@param {type:\"slider\", min:0, max:10, step:0.1}\n",
        "#@markdown $k_{mRNA}$ - mRNA production rate, mRNA/time\n",
        "k_mRNA = .3 #@param {type:\"slider\", min:0, max:100, step:0.1}\n",
        "#@markdown $\\gamma_{mRNA}$ - mRNA decay rate, how many mRNA decay / time\n",
        "gamma_mRNA = .05 #@param {type:\"slider\", min:0, max:10, step:0.1}\n",
        "\n",
        "parameters = lambda t: [k_on, k_off, k_mRNA, gamma_mRNA]\n",
        "\n",
        "# initial state of our system\n",
        "x0 = np.array([[1], # gene off\n",
        "               [0], # gene on\n",
        "               [0]])\n",
        "\n",
        "# time which to integrate over\n",
        "final_time = 100 #@param {type:\"slider\", min:0, max:100, step:1}\n",
        "t_array = np.linspace(0,final_time,1000)\n",
        "\n",
        "# Solve our ODE with odeint, ODE int takes dxdt(x,t,**pars), x0, t, and extra arguments\n",
        "ode_soln = odeint(bursting_gene_model, x0.flatten(), t_array, args=(S, propensity_array, W0, parameters))\n",
        "plt.plot(ode_soln)\n",
        "plt.ylabel('N Species')\n",
        "plt.xlabel('Time')\n",
        "plt.legend(['off', 'on', 'mRNA'])"
      ],
      "metadata": {
        "colab": {
          "base_uri": "https://localhost:8080/",
          "height": 466
        },
        "id": "yQGVWyQXaWQK",
        "outputId": "aabf4cc9-ee1a-4511-a64e-257095d066af"
      },
      "execution_count": 9,
      "outputs": [
        {
          "output_type": "execute_result",
          "data": {
            "text/plain": [
              "<matplotlib.legend.Legend at 0x7fab82fa4520>"
            ]
          },
          "metadata": {},
          "execution_count": 9
        },
        {
          "output_type": "display_data",
          "data": {
            "text/plain": [
              "<Figure size 640x480 with 1 Axes>"
            ],
            "image/png": "[encoded data removed]"
          },
          "metadata": {}
        }
      ]
    }
  ]
}