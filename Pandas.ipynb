{
  "nbformat": 4,
  "nbformat_minor": 0,
  "metadata": {
    "colab": {
      "provenance": [],
      "toc_visible": true,
      "authorship_tag": "ABX9TyO0v8YR4UikXx945OI4GHEL",
      "include_colab_link": true
    },
    "kernelspec": {
      "name": "python3",
      "display_name": "Python 3"
    },
    "language_info": {
      "name": "python"
    }
  },
  "cells": [
    {
      "cell_type": "markdown",
      "metadata": {
        "id": "view-in-github",
        "colab_type": "text"
      },
      "source": [
        "<a href=\"https://colab.research.google.com/github/Jorge-LGH/Learn_Python/blob/main/Pandas.ipynb\" target=\"_parent\"><img src=\"https://colab.research.google.com/assets/colab-badge.svg\" alt=\"Open In Colab\"/></a>"
      ]
    },
    {
      "cell_type": "markdown",
      "source": [
        "# Pandas\n",
        "\n",
        "Pandas es una biblioteca de análisis de datos que proporciona estructuras de datos flexibles y eficientes para trabajar con conjuntos de datos tabulares. Es utilizada en áreas como ciencia de datos y ofrece una amplia gama de funciones para manipular, limpiar, transformar y analizar información. Como siempre, es ideal visitar la [documentación oficial](https://pandas.pydata.org) de la librería si buscas información más detallada.\n",
        "\n",
        "<img src = \"https://imgv2-1-f.scribdassets.com/img/document/344994698/original/f2f4698fcd/1613115148?v\\u003d1\">\n",
        "\n",
        "Ahora, puede que parezcan similares los arrays y dataframes que habíamos visto, pero en teoría deberías de saber la diferencia si estás en este repositorio. No obstante, veremos unas cuantas diferencias solo para recordar... aunque no lo deberías de necesitar.\n",
        "\n",
        "- Estructura de datos: Un DataFrame de Pandas es una estructura de datos bidimensional que se asemeja a una tabla con filas y columnas etiquetadas. Por otro lado, un array de NumPy es una estructura de datos multidimensional que puede tener cualquier número de dimensiones, generalmente utilizado para almacenar datos numéricos de manera eficiente.\n",
        "\n",
        "- Etiquetas de fila y columna: Los DataFrames de Pandas tienen etiquetas para las filas y columnas, lo que permite un acceso más intuitivo a los datos. Los arrays de NumPy, en cambio, no tienen estas etiquetas y se accede a los datos mediante índices numéricos.\n",
        "\n",
        "- Tipos de datos: Los DataFrames de Pandas pueden contener diferentes tipos de datos en cada columna, como números, cadenas de texto, fechas, etc. Los arrays de NumPy están diseñados para contener datos homogéneos, lo que significa que todos los elementos del array deben ser del mismo tipo de datos."
      ],
      "metadata": {
        "id": "PNH2Ko4tGldJ"
      }
    },
    {
      "cell_type": "markdown",
      "source": [
        "# Dataframes\n"
      ],
      "metadata": {
        "id": "MkBtL4AhdWws"
      }
    },
    {
      "cell_type": "markdown",
      "source": [
        "## Crear dataframes\n",
        "\n",
        "Existen una variedad de maneras para generar Dataframes haciendo uso de la librería Pandas en Python. A continuación se muestran algunas de las maneras más utilizadas para generar estas estructuras de datos y algunos ejemplos de cómo es su sintaxis.\n",
        "\n",
        "1. A partir de un diccionario: Puedes generar un dataframe a partir de diccionarios o conjuntos de arrays con la función `pd.DataFrame()`. Cada llave va a representar una columna, los valores de las llaves serán los valores en cada renglón. Pandas también alineará los datos según las llaves en el diccionario.\n",
        "\n"
      ],
      "metadata": {
        "id": "gbn5wxiodp9O"
      }
    },
    {
      "cell_type": "code",
      "execution_count": 2,
      "metadata": {
        "id": "q_oMOb_A3SN_",
        "colab": {
          "base_uri": "https://localhost:8080/"
        },
        "outputId": "f2644179-0c24-43d2-df25-2e43967e4198"
      },
      "outputs": [
        {
          "output_type": "stream",
          "name": "stdout",
          "text": [
            "   Name  Age      City\n",
            "0  John   25  New York\n",
            "1  Jane   30    London\n",
            "2  Sara   28     Paris\n",
            "3  Mike   35     Tokyo\n",
            "<class 'pandas.core.frame.DataFrame'>\n"
          ]
        }
      ],
      "source": [
        "import pandas as pd\n",
        "\n",
        "data = {\n",
        "    'Name': ['John', 'Jane', 'Sara', 'Mike'],\n",
        "    'Age': [25, 30, 28, 35],\n",
        "    'City': ['New York', 'London', 'Paris', 'Tokyo']\n",
        "}\n",
        "\n",
        "df = pd.DataFrame(data)\n",
        "\n",
        "print(df)\n",
        "print(type(df))"
      ]
    },
    {
      "cell_type": "markdown",
      "source": [
        "2. A partir de un array de NumPy: Puedes generar un dataframe a partir de arrays directamente creados con NumPy, siempre y cuando especifiques los nuevos nombres para las columnas. El número de renglones en tu columna será acorde a la forma de los arrays que se den como un input."
      ],
      "metadata": {
        "id": "VO0zpxXZffyW"
      }
    },
    {
      "cell_type": "code",
      "source": [
        "import numpy as np\n",
        "\n",
        "arr = np.array([[1, 2, 3], [4, 5, 6], [7, 8, 9]])\n",
        "columns = ['A', 'B', 'C']\n",
        "\n",
        "df = pd.DataFrame(arr, columns=columns)\n",
        "\n",
        "print(df)"
      ],
      "metadata": {
        "colab": {
          "base_uri": "https://localhost:8080/"
        },
        "id": "OH86rdBpPxNk",
        "outputId": "01b72e30-d476-4fb6-bf51-08b6b58e01a7"
      },
      "execution_count": 3,
      "outputs": [
        {
          "output_type": "stream",
          "name": "stdout",
          "text": [
            "   A  B  C\n",
            "0  1  2  3\n",
            "1  4  5  6\n",
            "2  7  8  9\n"
          ]
        }
      ]
    },
    {
      "cell_type": "markdown",
      "source": [
        "3. A partir de un archivo CSV: Tal como en R, es frecuente cargar archivos csv previamente generados para poder manipularlos a voluntad. Se debe de especificar siempre el path o URL del archivo con la función `pd.read_csv()`.\n",
        "\n",
        "```python\n",
        "import pandas as pd\n",
        "\n",
        "df = pd.read_csv('data.csv')\n",
        "```\n",
        "\n",
        "Existen más formas de generar nuestros dataframes; sin embargo, estos tres son los más comunes para hacerlo."
      ],
      "metadata": {
        "id": "kyCKZ5oBP8Pg"
      }
    },
    {
      "cell_type": "markdown",
      "source": [
        "## Reshape Dataframes\n",
        "\n",
        "Hacer el reshaping de un dataframe es crucial para algunos pipelines y para algunas operaciones dentro de Python, es por ello que Python cuenta con una variedad de funciones que nos ayudan a lograrlo eficientemente.\n",
        "\n",
        "Recuerda que puede ser necesario hacer el reshaping para preparar tus datos, visualizarlos e incluso para agregar mpas ifnromación; así que no olvides cómo hacerlo."
      ],
      "metadata": {
        "id": "OLnM9U8jdifv"
      }
    },
    {
      "cell_type": "markdown",
      "source": [
        "### `pivot()`\n",
        "\n",
        "Esta función te permite organizar un dataframe previo y asignar un nuevo index según una variable. Además, permite asignar columnas y los valores en las mismas."
      ],
      "metadata": {
        "id": "h-XD5VlLVAKZ"
      }
    },
    {
      "cell_type": "code",
      "source": [
        "# Generar datafrmae a partir de diccionario\n",
        "df = pd.DataFrame({\n",
        "    'Nombre': ['Juan', 'Juan', 'María', 'María'],\n",
        "    'Materia': ['Mate', 'Biología', 'Mate', 'Biología'],\n",
        "    'Calificación': [80, 90, 85, 95]\n",
        "})\n",
        "\n",
        "# Uso de pivot\n",
        "pivot_df = df.pivot(index='Nombre', columns='Materia', values='Calificación')\n",
        "\n",
        "print(df)\n",
        "print(\" \")\n",
        "print(pivot_df)"
      ],
      "metadata": {
        "colab": {
          "base_uri": "https://localhost:8080/"
        },
        "id": "z9MAZ2AgQ6c7",
        "outputId": "6ab5bacf-40a2-418a-a613-36fe726e12a4"
      },
      "execution_count": 10,
      "outputs": [
        {
          "output_type": "stream",
          "name": "stdout",
          "text": [
            "  Nombre   Materia  Calificación\n",
            "0   Juan      Mate            80\n",
            "1   Juan  Biología            90\n",
            "2  María      Mate            85\n",
            "3  María  Biología            95\n",
            " \n",
            "Materia  Biología  Mate\n",
            "Nombre                 \n",
            "Juan           90    80\n",
            "María          95    85\n"
          ]
        }
      ]
    },
    {
      "cell_type": "markdown",
      "source": [
        "### `melt()`\n",
        "\n",
        "Esta función tiene un efecto contrario a la explicada anteriormente. En este caso, `melt()` desagrega un dataframe desde un formato amplio (*wide*) a un formato largo (*long*), opcionalmente manteniendo los identificadores establecidos."
      ],
      "metadata": {
        "id": "GwDScDNjVRaL"
      }
    },
    {
      "cell_type": "code",
      "source": [
        "# Generar datafrmae a partir de diccionario\n",
        "df = pd.DataFrame({\n",
        "    'Nombre': ['Juan', 'María'],\n",
        "    'Mate': [80, 85],\n",
        "    'Biología': [90, 95]\n",
        "})\n",
        "\n",
        "# Hacer melt al dataframe\n",
        "melted_df = df.melt(id_vars='Nombre', var_name='Materia', value_name='Calificación')\n",
        "\n",
        "print(df)\n",
        "print(\" \")\n",
        "print(melted_df)"
      ],
      "metadata": {
        "colab": {
          "base_uri": "https://localhost:8080/"
        },
        "id": "X1R5dUCJRS-W",
        "outputId": "2431bc83-adb6-4a30-933c-fe5fb5e3771f"
      },
      "execution_count": 11,
      "outputs": [
        {
          "output_type": "stream",
          "name": "stdout",
          "text": [
            "  Nombre  Mate  Biología\n",
            "0   Juan    80        90\n",
            "1  María    85        95\n",
            " \n",
            "  Nombre   Materia  Calificación\n",
            "0   Juan      Mate            80\n",
            "1  María      Mate            85\n",
            "2   Juan  Biología            90\n",
            "3  María  Biología            95\n"
          ]
        }
      ]
    },
    {
      "cell_type": "markdown",
      "source": [
        "### `set_index()` y `stack()`\n",
        "\n",
        "La primera de estas dos funciones, `set_index()`, sirve para usar una columna existente como el index de nuestro dataframe. Por otro lado, `stack()`, apila los niveles de las columnas al index."
      ],
      "metadata": {
        "id": "Ukk_i-AgWF0j"
      }
    },
    {
      "cell_type": "code",
      "source": [
        "# Generar datafrmae a partir de diccionario\n",
        "df = pd.DataFrame({\n",
        "    'Nombre': ['Juan', 'María'],\n",
        "    'Mate': [80, 85],\n",
        "    'Biología': [90, 95]\n",
        "})\n",
        "\n",
        "# Stack el dataframe según una variable\n",
        "stacked_df = df.set_index('Nombre').stack()\n",
        "unstacked_df = stacked_df.unstack()\n",
        "\n",
        "print(df)\n",
        "print(\" \")\n",
        "print(stacked_df)\n",
        "print(\" \")\n",
        "print(unstacked_df)"
      ],
      "metadata": {
        "colab": {
          "base_uri": "https://localhost:8080/"
        },
        "id": "7NzMIM_XRjOD",
        "outputId": "ff47cb51-610a-4c43-9c7f-b26f9e6aceda"
      },
      "execution_count": 12,
      "outputs": [
        {
          "output_type": "stream",
          "name": "stdout",
          "text": [
            "  Nombre  Mate  Biología\n",
            "0   Juan    80        90\n",
            "1  María    85        95\n",
            " \n",
            "Nombre          \n",
            "Juan    Mate        80\n",
            "        Biología    90\n",
            "María   Mate        85\n",
            "        Biología    95\n",
            "dtype: int64\n",
            " \n",
            "        Mate  Biología\n",
            "Nombre                \n",
            "Juan      80        90\n",
            "María     85        95\n"
          ]
        }
      ]
    },
    {
      "cell_type": "markdown",
      "source": [
        "### `merge()`\n",
        "\n",
        "Esta función, tal como indica su nombre, une dataframes u objetos de serie en una base de datos nueva."
      ],
      "metadata": {
        "id": "QYQbobJAgdl7"
      }
    },
    {
      "cell_type": "code",
      "source": [
        "# Generar datafrmae a partir de diccionario\n",
        "df1 = pd.DataFrame({'Nombre': ['Juan', 'María'], 'Edad': [22, 30]})\n",
        "df2 = pd.DataFrame({'Nombre': ['Juan', 'María'], 'Ciudad': ['Querétaro', 'Guanajuato']})\n",
        "\n",
        "# unir los dataframes según una variable en común\n",
        "merged_df = pd.merge(df1, df2, on='Nombre')\n",
        "\n",
        "print(df1)\n",
        "print(\" \")\n",
        "print(df2)\n",
        "print(\" \")\n",
        "print(merged_df)"
      ],
      "metadata": {
        "colab": {
          "base_uri": "https://localhost:8080/"
        },
        "id": "JIBFH6DvRy8M",
        "outputId": "1f664cd9-11f7-44c1-d73b-a9935b4b752a"
      },
      "execution_count": 18,
      "outputs": [
        {
          "output_type": "stream",
          "name": "stdout",
          "text": [
            "  Nombre  Edad\n",
            "0   Juan    22\n",
            "1  María    30\n",
            " \n",
            "  Nombre      Ciudad\n",
            "0   Juan   Querétaro\n",
            "1  María  Guanajuato\n",
            " \n",
            "  Nombre  Edad      Ciudad\n",
            "0   Juan    22   Querétaro\n",
            "1  María    30  Guanajuato\n"
          ]
        }
      ]
    },
    {
      "cell_type": "markdown",
      "source": [
        "## Hacer subset de Dataframes\n",
        "\n",
        "Es igualmente obvio el porqué es importante saber hacer subsets de nuestros datos, pues en ocasiones solo requerimos extraer porciones específicas de la información."
      ],
      "metadata": {
        "id": "m8e6R1NqdyZK"
      }
    },
    {
      "cell_type": "markdown",
      "source": [
        "### Seleccionar columnas\n",
        "\n",
        "En este caso se muestra la selección de una lista de columnas para extraer información."
      ],
      "metadata": {
        "id": "enkjji_Mik9K"
      }
    },
    {
      "cell_type": "code",
      "source": [
        "df = merged_df*1\n",
        "\n",
        "subset = df[['Nombre', 'Edad']] # Todos los renglones de estas dos columnas\n",
        "print(subset)"
      ],
      "metadata": {
        "colab": {
          "base_uri": "https://localhost:8080/"
        },
        "id": "yFbLPk6yhBca",
        "outputId": "244c9ee9-0e58-4cce-ae36-b609b20e04cc"
      },
      "execution_count": 21,
      "outputs": [
        {
          "output_type": "stream",
          "name": "stdout",
          "text": [
            "  Nombre  Edad\n",
            "0   Juan    22\n",
            "1  María    30\n"
          ]
        }
      ]
    },
    {
      "cell_type": "markdown",
      "source": [
        "### Seleccionar renglones\n",
        "\n",
        "Se muestra la selección de renglones con base en una condición."
      ],
      "metadata": {
        "id": "Bzs22tdjirWX"
      }
    },
    {
      "cell_type": "code",
      "source": [
        "df = merged_df*1\n",
        "\n",
        "subset = df[df['Edad'] > 25]\n",
        "print(subset)"
      ],
      "metadata": {
        "colab": {
          "base_uri": "https://localhost:8080/"
        },
        "id": "nfGedEV8hTyT",
        "outputId": "73ae39da-31db-4ccf-beef-b7c2c42f1626"
      },
      "execution_count": 22,
      "outputs": [
        {
          "output_type": "stream",
          "name": "stdout",
          "text": [
            "  Nombre  Edad      Ciudad\n",
            "1  María    30  Guanajuato\n"
          ]
        }
      ]
    },
    {
      "cell_type": "markdown",
      "source": [
        "### `loc()`\n",
        "\n",
        "Este elemento de Python funciona para especificar tanto renglones como columnas específicas; incluyendo condiciones de selección."
      ],
      "metadata": {
        "id": "tnH6Wc2Ci9ah"
      }
    },
    {
      "cell_type": "code",
      "source": [
        "df = merged_df*1\n",
        "\n",
        "subset = df.loc[df['Edad'] > 25, ['Nombre', 'Ciudad']]\n",
        "print(subset)"
      ],
      "metadata": {
        "colab": {
          "base_uri": "https://localhost:8080/"
        },
        "id": "oGFSRZQqhrIh",
        "outputId": "fa512619-0e24-41d5-91b8-644a96721097"
      },
      "execution_count": 24,
      "outputs": [
        {
          "output_type": "stream",
          "name": "stdout",
          "text": [
            "  Nombre      Ciudad\n",
            "1  María  Guanajuato\n"
          ]
        }
      ]
    },
    {
      "cell_type": "markdown",
      "source": [
        "### `iloc()`\n",
        "\n",
        "Es el mismo principio que `loc()` con la diferencia que podemos escoger posiciones dentro del index de nuestros objetos."
      ],
      "metadata": {
        "id": "6uGHuYHSjPXC"
      }
    },
    {
      "cell_type": "code",
      "source": [
        "df = merged_df*1\n",
        "\n",
        "subset = df.iloc[0:2, 1:3]\n",
        "print(subset)"
      ],
      "metadata": {
        "colab": {
          "base_uri": "https://localhost:8080/"
        },
        "id": "oweuG8VOh1pk",
        "outputId": "633bf3ad-16aa-4704-f787-cbed7b8d11c5"
      },
      "execution_count": 25,
      "outputs": [
        {
          "output_type": "stream",
          "name": "stdout",
          "text": [
            "   Edad      Ciudad\n",
            "0    22   Querétaro\n",
            "1    30  Guanajuato\n"
          ]
        }
      ]
    },
    {
      "cell_type": "markdown",
      "source": [
        "## Agrupar datos\n",
        "\n",
        "Ahora, en lugar de hacer divisiones en nuestros datos, veremos cómo agruparlos según sea nuestro interés. Pandas es una herramienta muy eficiente para generar agrupaciones y poder manipular los datos directamente, de modo que es necesario saber cómo utilizarlo.\n",
        "\n"
      ],
      "metadata": {
        "id": "-vXSzooyd7Lq"
      }
    },
    {
      "cell_type": "markdown",
      "source": [
        "### `groupby()`\n",
        "\n",
        "Esta es una de las funciones más útiles en Pandas, pues nos permite agrupar la información contenida en los dataframes. Funciona de modo que alimentas una columna, o lista de columnas, que agrupa tus datos y los aloja en un objeto con una gran cantidad de métodos y funciones disponibles."
      ],
      "metadata": {
        "id": "ASgFp_jtkiBA"
      }
    },
    {
      "cell_type": "code",
      "source": [
        "df = pd.DataFrame({\n",
        "    'Nombre': ['Juan', 'María', 'Sara', 'Miguel'],\n",
        "    'Edad': [25, 30, 28, 35],\n",
        "    'Ciudad': ['Querétaro', 'Guanajuato', 'Querétaro', 'Guanajuato']\n",
        "})\n",
        "\n",
        "grouped = df.groupby('Ciudad') # agrupa por ciudad\n",
        "average_age = grouped['Edad'].mean() # promedio de edad según grupos generados\n",
        "\n",
        "\n",
        "print(grouped.groups) # muestra los grupos que se generan\n",
        "print(average_age)"
      ],
      "metadata": {
        "colab": {
          "base_uri": "https://localhost:8080/"
        },
        "id": "qf8QvnFrklyx",
        "outputId": "ffce6f7f-c9e7-4481-b6f3-1a64ce6faddc"
      },
      "execution_count": 34,
      "outputs": [
        {
          "output_type": "stream",
          "name": "stdout",
          "text": [
            "{'Guanajuato': [1, 3], 'Querétaro': [0, 2]}\n",
            "Ciudad\n",
            "Guanajuato    32.5\n",
            "Querétaro     26.5\n",
            "Name: Edad, dtype: float64\n"
          ]
        }
      ]
    },
    {
      "cell_type": "code",
      "source": [
        "df = pd.DataFrame({\n",
        "    'Nombre': ['Juan', 'María', 'Sara', 'Miguel', \"Mario\", \"Fernanda\", \"Berenice\", \"Luis\"],\n",
        "    'Edad': [25, 30, 28, 35, 25, 52, 37, 21],\n",
        "    'Ciudad': ['Querétaro', 'Guanajuato', 'Querétaro', 'Guanajuato', 'Querétaro', 'Guanajuato', 'Querétaro', 'Guanajuato'],\n",
        "    'Género': ['H', 'M', 'M', 'H', \"H\", \"M\", \"M\", \"H\"]\n",
        "})\n",
        "\n",
        "grouped = df.groupby(['Ciudad', 'Género'])\n",
        "average_age = grouped['Edad'].mean()\n",
        "\n",
        "print(grouped.groups) # muestra los grupos que se generan\n",
        "print(average_age)"
      ],
      "metadata": {
        "colab": {
          "base_uri": "https://localhost:8080/"
        },
        "id": "PVD-hYjpmA4K",
        "outputId": "e5fa1fd3-7325-454a-9d75-ef1bedcc1af7"
      },
      "execution_count": 36,
      "outputs": [
        {
          "output_type": "stream",
          "name": "stdout",
          "text": [
            "{('Guanajuato', 'H'): [3, 7], ('Guanajuato', 'M'): [1, 5], ('Querétaro', 'H'): [0, 4], ('Querétaro', 'M'): [2, 6]}\n",
            "Ciudad      Género\n",
            "Guanajuato  H         28.0\n",
            "            M         41.0\n",
            "Querétaro   H         25.0\n",
            "            M         32.5\n",
            "Name: Edad, dtype: float64\n"
          ]
        }
      ]
    }
  ]
}