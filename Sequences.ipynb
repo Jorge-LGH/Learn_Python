{
  "nbformat": 4,
  "nbformat_minor": 0,
  "metadata": {
    "colab": {
      "provenance": [],
      "authorship_tag": "ABX9TyN1J1AqSmh/DVzxqnham0c2",
      "include_colab_link": true
    },
    "kernelspec": {
      "name": "python3",
      "display_name": "Python 3"
    },
    "language_info": {
      "name": "python"
    }
  },
  "cells": [
    {
      "cell_type": "markdown",
      "metadata": {
        "id": "view-in-github",
        "colab_type": "text"
      },
      "source": [
        "<a href=\"https://colab.research.google.com/github/Jorge-LGH/Learn_Python/blob/main/Sequences.ipynb\" target=\"_parent\"><img src=\"https://colab.research.google.com/assets/colab-badge.svg\" alt=\"Open In Colab\"/></a>"
      ]
    },
    {
      "cell_type": "markdown",
      "source": [
        "# Sequence types\n",
        "\n",
        "Python cuenta con una serie de tipos de datos asociados directamente con secuencias, es decir, colecciones ordenadas de datos y/u objetos. En particular, ofrece la ventaja de poder referenciar elementos pertenecientes a estas colecciones de manera precisa o incluso secuencial, de modo que puee automatizar procesos.\n",
        "\n",
        "En Python, **el index de TODAS las secuencias COEMINZA EN 0**. Es decir, si tenemos unacolección de 20 objetos y queremos accesar al objeto numero 19, no vamos a seleccionar la posición 19, pues como empezamos desde 0, el elemento 19 se encuentra en la ubiación 18. Es un poco confuso, pero podemos verlo de esta manera: En lugar de comenzar a contar los elementos desde 1, simplemente empezamos desde 0. Esto no cambia el número de elementos en nuestra colección, solo es referente a la posición dentro del lenguaje. Veamos un ejemplo.\n",
        "\n",
        "Dicho de manera sencilla, la secuencia tiene elementos que pueden ser de cualquier valor, mientras que el index siempre será del 0 hasta n, donde n es la cantidad de elementos menos 1."
      ],
      "metadata": {
        "id": "CVou3PpmQ0Yi"
      }
    },
    {
      "cell_type": "code",
      "execution_count": null,
      "metadata": {
        "colab": {
          "base_uri": "https://localhost:8080/"
        },
        "id": "iXr42mn5Qye7",
        "outputId": "30f7114a-7c1d-489f-c7ef-4fe813a2e49f"
      },
      "outputs": [
        {
          "output_type": "execute_result",
          "data": {
            "text/plain": [
              "3"
            ]
          },
          "metadata": {},
          "execution_count": 11
        }
      ],
      "source": [
        "# Index empieza desde 0, no 1\n",
        "\n",
        "a = [1,5,9]\n",
        "len(a)"
      ]
    },
    {
      "cell_type": "code",
      "source": [
        "# obtener el elemento en la posición \"1\"\n",
        "\n",
        "a[1]"
      ],
      "metadata": {
        "colab": {
          "base_uri": "https://localhost:8080/"
        },
        "id": "CnITeQ29Q6QO",
        "outputId": "dcd44b12-b97f-4b57-e071-d68404e37a75"
      },
      "execution_count": null,
      "outputs": [
        {
          "output_type": "execute_result",
          "data": {
            "text/plain": [
              "5"
            ]
          },
          "metadata": {},
          "execution_count": 12
        }
      ]
    },
    {
      "cell_type": "markdown",
      "source": [
        "Como podemos notar con el uso de la función `len()`, la longitud total de nuestra lista es de 3 elementos, pero al momento de seleccionar el elemento 1, esocge al número 5 (el cual sería el segundo elemento según la lógica). Esto refleja que el conteo de elementos comienza en 0, pero la cantidad de elementos no cambia.\n",
        "\n",
        "A continuación veremos algunos de los tipos de datos de secuencia más comúnmente utilizados."
      ],
      "metadata": {
        "id": "AY1YOGr_TCuZ"
      }
    },
    {
      "cell_type": "markdown",
      "source": [
        "## Lists\n",
        "\n",
        "Las listas son herramientas que nos ayudan en el almacenamiento de varios items en una sola variable. La estructura básica de una lista se compone por dos corchetes, uno al inicio y otro al final, y todos los items separados por comas entre los corchetes. A continuación veremos la formulación de una lista."
      ],
      "metadata": {
        "id": "Y6yWf_uZTF6l"
      }
    },
    {
      "cell_type": "code",
      "source": [
        "# Generar una lista\n",
        "\n",
        "a = [1,2,90,\"f\",\"z\"]\n",
        "\n",
        "print(a)"
      ],
      "metadata": {
        "colab": {
          "base_uri": "https://localhost:8080/"
        },
        "id": "Kpjku0nDTIkm",
        "outputId": "a3efafe6-b767-41b0-d073-38527896d814"
      },
      "execution_count": null,
      "outputs": [
        {
          "output_type": "stream",
          "name": "stdout",
          "text": [
            "[1, 2, 90, 'f', 'z']\n"
          ]
        }
      ]
    },
    {
      "cell_type": "markdown",
      "source": [
        "Como se puede observar, los items dentro de la lista pueden ser de diferentes tipos, por lo que esto limitará algunas operaciones en un futuro, pero al mismo tiempo nos ofrewce una herramienta para almacenar datos de diferentes clases en un mismo objeto.\n",
        "\n",
        "Ahora vamos a observar algunas manipulaciones que podemos realizar a listas que previamente existían. Esta versatilidad de reordenar, agregar o incluso restar elementos es una gran ventaja para manipular datos."
      ],
      "metadata": {
        "id": "UD_Ra7SfTLXo"
      }
    },
    {
      "cell_type": "markdown",
      "source": [
        "### List manipulation"
      ],
      "metadata": {
        "id": "W9dBPSbYUacK"
      }
    },
    {
      "cell_type": "markdown",
      "source": [
        "#### Añadir elementos\n",
        "\n",
        "Primeramente vamos a ver cómo se agregan elementos a nuestra lista. Hay una variedad de maneras para agregar elementos a nuestra lista que ya ha sido creada, así que solo se van a cubrir algunos de estos métodos en esta ocasión. En particular, veremos el uso de los métodos `.append()`, `.insert()` y `.extend()`. Al ser métodos recuerda que estos se escriben después de haber escrito el nombre de nuetro objeto, en este caso, nuestra lista.\n",
        "\n",
        "**Uso de `.append()`**"
      ],
      "metadata": {
        "id": "6Efnkh2QUbFV"
      }
    },
    {
      "cell_type": "code",
      "source": [
        "# Hacer la lista\n",
        "\n",
        "lista = [1,2,90,\"f\",\"z\"]\n",
        "\n",
        "# Añadir elemento con `.append`\n",
        "\n",
        "lista.append(\"añadido\")\n",
        "\n",
        "lista"
      ],
      "metadata": {
        "colab": {
          "base_uri": "https://localhost:8080/"
        },
        "id": "i0HVplAAUeV-",
        "outputId": "be877c16-fed5-4e9d-dbb1-ea4b2cbd90f5"
      },
      "execution_count": null,
      "outputs": [
        {
          "output_type": "execute_result",
          "data": {
            "text/plain": [
              "[1, 2, 90, 'f', 'z', 'añadido']"
            ]
          },
          "metadata": {},
          "execution_count": 14
        }
      ]
    },
    {
      "cell_type": "markdown",
      "source": [
        "Podemos ver que nuestro nuevo elemento ha sido añadido al final de nuestra lista, y esto es siempre el caso cuando usamos este método. Si bien, es bastante útil, el siguiente método puede especificar la posición que desea tomar.\n",
        "\n",
        "**Uso de `.insert()`**"
      ],
      "metadata": {
        "id": "2rncIyTBUjZq"
      }
    },
    {
      "cell_type": "code",
      "source": [
        "# Hacer la lista\n",
        "\n",
        "lista = [1,2,90,\"f\",\"z\"]\n",
        "\n",
        "# Añadir elemento con `.insert`\n",
        "\n",
        "lista.insert(0, 12)\n",
        "\n",
        "lista"
      ],
      "metadata": {
        "colab": {
          "base_uri": "https://localhost:8080/"
        },
        "id": "bGxv_a4YUkZZ",
        "outputId": "9dfbdc68-2ae9-4f07-a014-1afc0d8fa093"
      },
      "execution_count": null,
      "outputs": [
        {
          "output_type": "execute_result",
          "data": {
            "text/plain": [
              "[12, 1, 2, 90, 'f', 'z']"
            ]
          },
          "metadata": {},
          "execution_count": 15
        }
      ]
    },
    {
      "cell_type": "markdown",
      "source": [
        "Ahora podemos ver que nuestro elemento **fue insertado en la posición 0 del index de la lista**. Esto se puede cambiar al modificar nuestros parámetros en el método. En el ejemplo podemos ver los números 0 y 12, los cuales son la posición del index y el elemento que queremos añadir respectivamente. Si cambiamos el index, se moverá la posición en la que se insertará nuestro elemento.\n",
        "\n",
        "**Uso de `.extend()`**"
      ],
      "metadata": {
        "id": "1Walg1UCUojM"
      }
    },
    {
      "cell_type": "code",
      "source": [
        "# Hacer la lista\n",
        "\n",
        "lista1 = [1,2,90,\"f\",\"z\"]\n",
        "lista2 = [2,\"un string\", 4, -15]\n",
        "\n",
        "# Añadir elemento con `.insert`\n",
        "\n",
        "lista1.extend(lista2)\n",
        "\n",
        "lista1"
      ],
      "metadata": {
        "colab": {
          "base_uri": "https://localhost:8080/"
        },
        "id": "X7WfKp6KUqqp",
        "outputId": "6790acc8-5aab-4050-a445-6d867b7102d4"
      },
      "execution_count": null,
      "outputs": [
        {
          "output_type": "execute_result",
          "data": {
            "text/plain": [
              "[1, 2, 90, 'f', 'z', 2, 'un string', 4, -15]"
            ]
          },
          "metadata": {},
          "execution_count": 16
        }
      ]
    },
    {
      "cell_type": "markdown",
      "source": [
        "Este último método es un tanto particular, pues solo puede agregar otros elementos que ya sean parte de otra secuencia de elementos ordenados, sean listas, tuplas, sets, etc."
      ],
      "metadata": {
        "id": "pE7SNOqXUtHb"
      }
    },
    {
      "cell_type": "markdown",
      "source": [
        "## Tuples\n",
        "\n",
        "Este tipo de dato es usado para almacenar **elementos de un solo tipo** en una sola variable. A diferencia de otro tipo de dato, **no puede alterarse**, es decir, una vez que has generado un tuple, se queda así a menos que lo sobrescribas. El modo de escribir uno de estos objetos es con parénteis."
      ],
      "metadata": {
        "id": "GpsPD-r3Ut5G"
      }
    },
    {
      "cell_type": "code",
      "source": [
        "# generar una tuple\n",
        "\n",
        "tuple1 = (\"hola\",\"esto\",\"es\",\"una\",\"tupla\")\n",
        "\n",
        "type(tuple1)\n",
        "tuple1"
      ],
      "metadata": {
        "colab": {
          "base_uri": "https://localhost:8080/"
        },
        "id": "N2jUJ_uKUwvp",
        "outputId": "8b1c337f-65d6-4daa-9bba-cd5e8969d23c"
      },
      "execution_count": null,
      "outputs": [
        {
          "output_type": "execute_result",
          "data": {
            "text/plain": [
              "('hola', 'esto', 'es', 'una', 'tupla')"
            ]
          },
          "metadata": {},
          "execution_count": 17
        }
      ]
    },
    {
      "cell_type": "markdown",
      "source": [
        "```\n",
        "tuple1.append(\"error\")\n",
        "AttributeError: 'tuple' object has no attribute 'append'\n",
        "```"
      ],
      "metadata": {
        "id": "3GtT-HkHXjqM"
      }
    },
    {
      "cell_type": "markdown",
      "source": [
        "## Dictionaries\n",
        "\n"
      ],
      "metadata": {
        "id": "wzYRCIs0XSRV"
      }
    }
  ]
}