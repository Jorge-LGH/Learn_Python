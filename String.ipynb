{
  "nbformat": 4,
  "nbformat_minor": 0,
  "metadata": {
    "colab": {
      "provenance": [],
      "collapsed_sections": [
        "nZj5FcUoBAJV"
      ],
      "toc_visible": true,
      "authorship_tag": "ABX9TyO34gMSCA2XK77Wghws2TwR",
      "include_colab_link": true
    },
    "kernelspec": {
      "name": "python3",
      "display_name": "Python 3"
    },
    "language_info": {
      "name": "python"
    }
  },
  "cells": [
    {
      "cell_type": "markdown",
      "metadata": {
        "id": "view-in-github",
        "colab_type": "text"
      },
      "source": [
        "<a href=\"https://colab.research.google.com/github/Jorge-LGH/Learn_Python/blob/main/String.ipynb\" target=\"_parent\"><img src=\"https://colab.research.google.com/assets/colab-badge.svg\" alt=\"Open In Colab\"/></a>"
      ]
    },
    {
      "cell_type": "markdown",
      "source": [
        "# **Equivalencias R con Python**\n",
        "\n",
        "Esta tabla sirve como una ayuda básica para comprender las equivalencias de R con Python a la hora de definir un string. Como podrás ver, es exactamente lo mismo\n",
        "\n",
        "|R            |Python       |\n",
        "|-------------|-------------|\n",
        "|`\"Hola\"`     |`\"Hola\"`     |\n",
        "|`'Mundo'`    |`'Mundo'`    |\n",
        "|`\"¡Hola!\"`   |`\"¡Hola!\"`   |\n",
        "|`'Python'`   |`'Python'`   |\n",
        "|`\"Data\"`     |`\"Data\"`     |\n",
        "\n",
        "Otros ejemplos de equivalenicas:\n",
        "\n",
        "|R (dividir)     |Python (dividir)     |R (unir)         |Python (unir)        |\n",
        "|----------------|---------------------|-----------------|----------------------|\n",
        "|`strsplit(x, sep)`|`x.split(sep)`     |`paste(x, collapse = sep)`|`sep.join(x)`|\n",
        "\n",
        "\n",
        "**¡Para aprender un lenguaje, las equivalencias NO lo son todo!**"
      ],
      "metadata": {
        "id": "qMdxjeLkuis7"
      }
    },
    {
      "cell_type": "markdown",
      "source": [
        "# Strings\n",
        "\n",
        "Los datos de tipo string son de uso constante y común en cualquier área de programación con Python. Dicho de manera sencilla, son datos literales que tienen al inicio y al final comillas dobles (**\" \"**) o sencillas (**' '**). Estas comillas actúan como delimitadores para denotar qué conforma parte de nuestro dato clase string y qué no.\n",
        "\n",
        "Los strings, abreviados str, pueden contener tantos caracteres como uno desee; el límite es la memoria y capacidad de procesamiento de nuestra computadora. Dentro de este aspecto cabe recalcar que podemos generar datos de este tipo que estén vacíos, no solo que tengan un espacio, sino, que realmente estén vacíos. Los caracteres que contengan dentro de nuestro dato string pueden ser caracteres básicos, especiales o incluso números"
      ],
      "metadata": {
        "id": "YQ0sSkDk7v1t"
      }
    },
    {
      "cell_type": "markdown",
      "source": [
        "## Cómo crear un string\n",
        "\n",
        "Para generar un objeto de tipo string, o simplemente usar uno de estos datos, es necesario aprender la sintaxis adecuada, pues podemos incluir renglones y caracteres especiales dentro de dichos datos. En este caso vamos a generar un dato tipo str con caracteres normales, uno vació y uno con caracteres especiales."
      ],
      "metadata": {
        "id": "S3iytudA7zSD"
      }
    },
    {
      "cell_type": "code",
      "execution_count": null,
      "metadata": {
        "colab": {
          "base_uri": "https://localhost:8080/",
          "height": 35
        },
        "id": "c5KrIoDQ7mcJ",
        "outputId": "56081afe-97be-4f8d-8dac-6fd97c611449"
      },
      "outputs": [
        {
          "output_type": "execute_result",
          "data": {
            "text/plain": [
              "'Este es nuestro primer dato de tipo str'"
            ],
            "application/vnd.google.colaboratory.intrinsic+json": {
              "type": "string"
            }
          },
          "metadata": {},
          "execution_count": 3
        }
      ],
      "source": [
        "# Crear un dato string con caracteres básicos\n",
        "\n",
        "\"Este es nuestro primer dato de tipo str\""
      ]
    },
    {
      "cell_type": "code",
      "source": [
        "# Crear un string vacío\n",
        "\n",
        "\"\""
      ],
      "metadata": {
        "colab": {
          "base_uri": "https://localhost:8080/",
          "height": 35
        },
        "id": "Pna2jeiX78z8",
        "outputId": "e16df1c3-5733-4c92-d9a1-0fc3c42b2925"
      },
      "execution_count": null,
      "outputs": [
        {
          "output_type": "execute_result",
          "data": {
            "text/plain": [
              "''"
            ],
            "application/vnd.google.colaboratory.intrinsic+json": {
              "type": "string"
            }
          },
          "metadata": {},
          "execution_count": 4
        }
      ]
    },
    {
      "cell_type": "code",
      "source": [
        "# String con caracteres especiales\n",
        "\n",
        "\"Esto es un caracter especial: \\\" (nos referimos a las comillas en medio del string)\""
      ],
      "metadata": {
        "colab": {
          "base_uri": "https://localhost:8080/",
          "height": 35
        },
        "id": "Ils30VxR798y",
        "outputId": "b57ffb63-d340-4e87-c55b-b407d33ed8b1"
      },
      "execution_count": null,
      "outputs": [
        {
          "output_type": "execute_result",
          "data": {
            "text/plain": [
              "'Esto es un caracter especial: \" (nos referimos a las comillas en medio del string)'"
            ],
            "application/vnd.google.colaboratory.intrinsic+json": {
              "type": "string"
            }
          },
          "metadata": {},
          "execution_count": 5
        }
      ]
    },
    {
      "cell_type": "markdown",
      "source": [
        "## Strings de múltiples líneas\n",
        "\n",
        "También es posible generar strings de múltiples líneas a través de las comillas y apóstrofes, solo que en este caso se usan tres al inicio y tres al final. Este tipo de string se utiliza en muchas ocasiones para documentar código que vamos desarrollando, de modo que tiene explicaciones concretas."
      ],
      "metadata": {
        "id": "NAY9kmhH8DY9"
      }
    },
    {
      "cell_type": "code",
      "source": [
        "# String de múltiples líneas\n",
        "\n",
        "print(\"\"\"\n",
        "Esto es un string\n",
        "Pero tiene varias líneas\n",
        "Cuando lo imprimes se puede ver\n",
        "\"\"\")\n"
      ],
      "metadata": {
        "colab": {
          "base_uri": "https://localhost:8080/"
        },
        "id": "WUtCwabJ8GSe",
        "outputId": "5bfcdc98-02c9-4e4e-865a-ca6e61db644c"
      },
      "execution_count": null,
      "outputs": [
        {
          "output_type": "stream",
          "name": "stdout",
          "text": [
            "\n",
            "Esto es un string\n",
            "Pero tiene varias líneas\n",
            "Cuando lo imprimes se puede ver\n",
            "\n"
          ]
        }
      ]
    },
    {
      "cell_type": "markdown",
      "source": [
        "Antes de continuar, ¿por qué consideramos las comillas dentro del string como un caracter especial? Pues senciallemnete porque sin la sintaxis adecuada, esas comillas en medio del string delimitarían el final de nuestro dato y no se podría ver aquello que viene dentro de los paréntesis."
      ],
      "metadata": {
        "id": "q9NNscCD8I0c"
      }
    },
    {
      "cell_type": "markdown",
      "source": [
        "## Sintaxis especial\n",
        "\n",
        "Para poder escribir caracteres como las comillas dentro de nuestros str o incluso para generar nuevos renglones, existen reglas que debemos de tener en cuenta pra poder realizar las tareas que nos interesen. A continuación hay una tabla que sintetiza algunas opciones de sintaxis para organizar la información dentro del str.\n",
        "\n",
        "|   Sintaxis   |                         Interpretación                          |\n",
        "|:------------:|:--------------------------------------------------------------:|\n",
        "|     \\\\'       | Permite considerar la comilla simple como parte del string, haciendo que **NO** delimite el string |\n",
        "|     \\\\\"       | Permite considerar la comilla doble como parte del string, haciendo que **NO** delimite el string  |\n",
        "|     \\\\\\\\      |                 Permite observar un backslash en el string      |\n",
        "|   \"a\\\\nb\"    |        Permite que el texto \"b\" esté en una nueva línea (diferente renglón)     |\n",
        "\n",
        "Podemos ver un ejemplo combinando esta sintaxis. Cabe aclarar que algunos usos de esta sintaxis solo son visibles al momento de imprimir nuestro dato, esto se hace mediante la función `print()`."
      ],
      "metadata": {
        "id": "Pumw56WK8Jlq"
      }
    },
    {
      "cell_type": "code",
      "source": [
        "# String sintaxis demostración\n",
        "\n",
        "print(\"Esta demostración sintaxis.\\nPodemos ver un nuevo renglón.\\nAhora veremos comillas simples y dobles \\' \\\"\\nAhora un backslash\\\\\")"
      ],
      "metadata": {
        "colab": {
          "base_uri": "https://localhost:8080/"
        },
        "id": "hH2RWOakPzza",
        "outputId": "680a9b83-5ed2-46df-ccb1-b79021c93e5a"
      },
      "execution_count": null,
      "outputs": [
        {
          "output_type": "stream",
          "name": "stdout",
          "text": [
            "Esta demostración sintaxis.\n",
            "Podemos ver un nuevo renglón.\n",
            "Ahora veremos comillas simples y dobles ' \"\n",
            "Ahora un backslash\\\n"
          ]
        }
      ]
    },
    {
      "cell_type": "markdown",
      "source": [
        "## Manipulación de strings\n",
        "\n",
        "Al igual que otros tipos de datos, podemos manipular strings existentes para poder dividir, agregar o crear nuevos strings, según sea la necesidad en el momento. Es por esto que se presentan las siguientes manipulaciones básicas con distintos métodos que vienen integrados en python."
      ],
      "metadata": {
        "id": "_U4z-hZ0P3S2"
      }
    },
    {
      "cell_type": "markdown",
      "source": [
        "### `.split()`\n",
        "\n",
        "El método split sencillamente genera la separación del string quen deseamos, puede ser la separación en cada espacio en blanco o podemos definir en qué punto se realiza la separación. Nos regresa un objeto tipo lista con cada pedazo del string que generamos."
      ],
      "metadata": {
        "id": "zQgIR5QDP5Y9"
      }
    },
    {
      "cell_type": "code",
      "source": [
        "# uso de split para dividir un string\n",
        "\n",
        "str1 = \"I'm a test string\"\n",
        "\n",
        "print(str1.split())"
      ],
      "metadata": {
        "colab": {
          "base_uri": "https://localhost:8080/"
        },
        "id": "2JibVRxuP7iP",
        "outputId": "80a92d0f-05f0-459a-c6a4-b6445fcb5858"
      },
      "execution_count": null,
      "outputs": [
        {
          "output_type": "stream",
          "name": "stdout",
          "text": [
            "[\"I'm\", 'a', 'test', 'string']\n"
          ]
        }
      ]
    },
    {
      "cell_type": "markdown",
      "source": [
        "### `.join()`\n",
        "\n",
        "Este método une los elementos de un objeto iterable (como listas) y genera un string con dichos elementos. Es importante señalar que debemos de marcar el caracter con el cual serán unidos los elementos."
      ],
      "metadata": {
        "id": "x1ChqG-WQA0Q"
      }
    },
    {
      "cell_type": "code",
      "source": [
        "# Unir caracteres en un string\n",
        "\n",
        "list1 = [\"This\",\"is\",\"a\",\"test\"]\n",
        "\n",
        "print(\" \".join(list1))"
      ],
      "metadata": {
        "colab": {
          "base_uri": "https://localhost:8080/"
        },
        "id": "-jFo4k82QBfO",
        "outputId": "1fbe39d7-41c5-4652-90c0-4c34a350d535"
      },
      "execution_count": null,
      "outputs": [
        {
          "output_type": "stream",
          "name": "stdout",
          "text": [
            "This is a test\n"
          ]
        }
      ]
    },
    {
      "cell_type": "markdown",
      "source": [
        "### `.upper()` y `.lower()`\n",
        "\n",
        "En ocasiones, por ejemplo al trabajar con secuencias, podremos encontrar que algunos formatos manejan ciertos datos con minúsculas y/o mayúsculas, de modo que es necesario cambiar el dato según se requiera. Es a raíz de esto que los métodos `.upper()` y `.lower()` funcionan para convertir nuestros strings a mayúsculas o minúsculas."
      ],
      "metadata": {
        "id": "WPXLCiHnQGc6"
      }
    },
    {
      "cell_type": "code",
      "source": [
        "# Hacer todos los caracteres en mayúsculas con upper\n",
        "\n",
        "str1 = \"this will be in uppercase\"\n",
        "\n",
        "print(str1.upper())"
      ],
      "metadata": {
        "colab": {
          "base_uri": "https://localhost:8080/"
        },
        "id": "t70va4luQHJU",
        "outputId": "b4f5b57a-2ff5-449d-a7ce-63f24a0e2cda"
      },
      "execution_count": null,
      "outputs": [
        {
          "output_type": "stream",
          "name": "stdout",
          "text": [
            "THIS WILL BE IN UPPERCASE\n"
          ]
        }
      ]
    },
    {
      "cell_type": "code",
      "source": [
        "# Hacer todos los caracteres en minúsculas con lower\n",
        "\n",
        "str1 = \"THIS WILL BE IN LOWERCASE\"\n",
        "\n",
        "print(str1.lower())"
      ],
      "metadata": {
        "colab": {
          "base_uri": "https://localhost:8080/"
        },
        "id": "45cbQ1HJQJme",
        "outputId": "70f0660d-4b12-4092-aa75-5a559779fb08"
      },
      "execution_count": null,
      "outputs": [
        {
          "output_type": "stream",
          "name": "stdout",
          "text": [
            "this will be in lowercase\n"
          ]
        }
      ]
    },
    {
      "cell_type": "markdown",
      "source": [
        "# Ejercicios"
      ],
      "metadata": {
        "id": "Ik-R3kG-A_3h"
      }
    },
    {
      "cell_type": "markdown",
      "source": [
        "Ejercicio 1: Validación de Contraseña\n",
        "\n",
        "Escribe un programa en Python que verifique si una contraseña cumple con ciertos criterios. Solicita al usuario que ingrese una contraseña y verifica si cumple con las siguientes condiciones:\n",
        "\n",
        "- Tiene al menos 8 caracteres de longitud.\n",
        "- Contiene al menos una letra minúscula y una letra mayúscula.\n",
        "- Contiene al menos un número."
      ],
      "metadata": {
        "id": "dXss4m6mBYu_"
      }
    },
    {
      "cell_type": "code",
      "source": [],
      "metadata": {
        "id": "gDSKgw0mBews"
      },
      "execution_count": null,
      "outputs": []
    },
    {
      "cell_type": "markdown",
      "source": [
        "Ejercicio 2: Contador de Vocales\n",
        "\n",
        "Escribe un programa en Python que cuente el número de vocales en una palabra. Solicita al usuario que ingrese una palabra y cuenta cuántas veces aparece cada vocal (a, e, i, o, u) en la palabra. Muestra los resultados al final."
      ],
      "metadata": {
        "id": "JDmsvc-NBfHb"
      }
    },
    {
      "cell_type": "code",
      "source": [],
      "metadata": {
        "id": "0RjGqK6_BjRZ"
      },
      "execution_count": null,
      "outputs": []
    },
    {
      "cell_type": "markdown",
      "source": [
        "Ejercicio 3: Palíndromo\n",
        "\n",
        "Escribe un programa en Python que verifique si una palabra o frase es un palíndromo. Solicita al usuario que ingrese una palabra o frase y verifica si se lee igual de izquierda a derecha y de derecha a izquierda, ignorando los espacios y las mayúsculas/minúsculas."
      ],
      "metadata": {
        "id": "_E2P5tt_BjsT"
      }
    },
    {
      "cell_type": "code",
      "source": [],
      "metadata": {
        "id": "PtpfG4h0BloF"
      },
      "execution_count": null,
      "outputs": []
    },
    {
      "cell_type": "markdown",
      "source": [
        "Ejercicio 4: Contador de Caracteres\n",
        "\n",
        "Escribe un programa en Python que cuente el número de caracteres en una cadena. Solicita al usuario que ingrese una frase o palabra, y muestra la cantidad total de caracteres (incluyendo espacios y signos de puntuación)."
      ],
      "metadata": {
        "id": "fPhpnPb5CBuK"
      }
    },
    {
      "cell_type": "code",
      "source": [],
      "metadata": {
        "id": "Wb7ThgsUCEyp"
      },
      "execution_count": null,
      "outputs": []
    },
    {
      "cell_type": "markdown",
      "source": [
        "Ejercicio 5: Inversión de Palabras\n",
        "\n",
        "Escribe un programa en Python que invierta el orden de las palabras en una oración. Solicita al usuario que ingrese una oración y muestra la oración con las palabras invertidas."
      ],
      "metadata": {
        "id": "1oTjrnVhCFQj"
      }
    },
    {
      "cell_type": "code",
      "source": [],
      "metadata": {
        "id": "e3ZNlpA0Cb6i"
      },
      "execution_count": null,
      "outputs": []
    },
    {
      "cell_type": "markdown",
      "source": [
        "Ejercicio 6: Analizador de Frecuencia de Palabras\n",
        "\n",
        "Escribe un programa en Python que analice la frecuencia de las palabras en un texto dado. Solicita al usuario que ingrese un párrafo o un texto más largo. Analiza la frecuencia de cada palabra en el texto y muestra las N palabras más frecuentes junto con sus respectivas cuentas."
      ],
      "metadata": {
        "id": "IPzOZuwVDcH-"
      }
    },
    {
      "cell_type": "markdown",
      "source": [
        "# Soluciones\n",
        "\n",
        "**Recuerda que hay más d una posible solución, de modo que debes de corroborar los resultados por tu propia cuenta.**"
      ],
      "metadata": {
        "id": "nZj5FcUoBAJV"
      }
    },
    {
      "cell_type": "code",
      "source": [
        "password = input(\"Ingresa una contraseña: \")\n",
        "\n",
        "has_min = False\n",
        "has_may = False\n",
        "has_num = False\n",
        "\n",
        "if len(password) >= 8:\n",
        "    for char in password:\n",
        "        if char.islower():\n",
        "            has_min = True\n",
        "        elif char.isupper():\n",
        "            has_may = True\n",
        "        elif char.isdigit():\n",
        "            has_num = True\n",
        "\n",
        "if has_min and has_may and has_num:\n",
        "    print(\"Contraseña válida\")\n",
        "else:\n",
        "    print(\"Contraseña inválida\")\n"
      ],
      "metadata": {
        "colab": {
          "base_uri": "https://localhost:8080/"
        },
        "id": "Uyt0wg5kBm2V",
        "outputId": "2e8dead6-119c-4a52-badb-0c2ba7d3fe12"
      },
      "execution_count": null,
      "outputs": [
        {
          "output_type": "stream",
          "name": "stdout",
          "text": [
            "Ingresa una contraseña: Contraseña\n",
            "Contraseña inválida\n"
          ]
        }
      ]
    },
    {
      "cell_type": "code",
      "source": [
        "word = input(\"Ingresa una palabra: \")\n",
        "\n",
        "vowel_count = {'a': 0, 'e': 0, 'i': 0, 'o': 0, 'u': 0}\n",
        "\n",
        "for char in word.lower():\n",
        "    if char in vowel_count:\n",
        "        vowel_count[char] += 1\n",
        "\n",
        "for vowel, count in vowel_count.items():\n",
        "    print(\"Cantidad de\", vowel, \":\", count)\n"
      ],
      "metadata": {
        "colab": {
          "base_uri": "https://localhost:8080/"
        },
        "id": "LZoUBsh-Br8J",
        "outputId": "5f5ff0fb-d73e-4de5-87f9-f5890929795d"
      },
      "execution_count": null,
      "outputs": [
        {
          "output_type": "stream",
          "name": "stdout",
          "text": [
            "Ingresa una palabra: Cuarentena\n",
            "Cantidad de a : 2\n",
            "Cantidad de e : 2\n",
            "Cantidad de i : 0\n",
            "Cantidad de o : 0\n",
            "Cantidad de u : 1\n"
          ]
        }
      ]
    },
    {
      "cell_type": "code",
      "source": [
        "text = input(\"Ingresa una palabra o frase: \")\n",
        "\n",
        "text = text.replace(\" \", \"\").lower()\n",
        "\n",
        "if text == text[::-1]:\n",
        "    print(\"Es un palíndromo\")\n",
        "else:\n",
        "    print(\"No es un palíndromo\")\n"
      ],
      "metadata": {
        "colab": {
          "base_uri": "https://localhost:8080/"
        },
        "id": "Dx7aYWAFBycE",
        "outputId": "fd1c2482-22bb-4afc-a690-fd81cb0fa672"
      },
      "execution_count": null,
      "outputs": [
        {
          "output_type": "stream",
          "name": "stdout",
          "text": [
            "Ingresa una palabra o frase: Anita lava la tina\n",
            "Es un palíndromo\n"
          ]
        }
      ]
    },
    {
      "cell_type": "code",
      "source": [
        "text = input(\"Ingresa una frase o palabra: \")\n",
        "\n",
        "character_count = len(text)\n",
        "\n",
        "print(\"Cantidad total de caracteres:\", character_count)\n"
      ],
      "metadata": {
        "colab": {
          "base_uri": "https://localhost:8080/"
        },
        "id": "803MI-rICieB",
        "outputId": "5de21fa8-3233-4166-dde6-45e8177a9229"
      },
      "execution_count": null,
      "outputs": [
        {
          "output_type": "stream",
          "name": "stdout",
          "text": [
            "Ingresa una frase o palabra: Esto es un ejemplo\n",
            "Cantidad total de caracteres: 18\n"
          ]
        }
      ]
    },
    {
      "cell_type": "code",
      "source": [
        "sentence = input(\"Ingresa una oración: \")\n",
        "\n",
        "reversed_sentence = ' '.join(sentence.split()[::-1])\n",
        "\n",
        "print(\"Oración con palabras invertidas:\", reversed_sentence)\n"
      ],
      "metadata": {
        "colab": {
          "base_uri": "https://localhost:8080/"
        },
        "id": "7reT-2FNCles",
        "outputId": "40751af3-6437-4f0c-9084-864565bcdf52"
      },
      "execution_count": null,
      "outputs": [
        {
          "output_type": "stream",
          "name": "stdout",
          "text": [
            "Ingresa una oración: Esto se verá al revés\n",
            "Oración con palabras invertidas: revés al verá se Esto\n"
          ]
        }
      ]
    },
    {
      "cell_type": "code",
      "source": [
        "import re\n",
        "from collections import Counter\n",
        "\n",
        "texto = input(\"Ingresa un párrafo o un texto más largo: \")\n",
        "\n",
        "# Eliminar puntuación y convertir a minúsculas\n",
        "texto = re.sub(r'[^\\w\\s]', '', texto.lower())\n",
        "\n",
        "# Contar frecuencia de palabras\n",
        "conteo_palabras = Counter(texto.split())\n",
        "\n",
        "# Mostrar las N palabras más frecuentes\n",
        "n_superior = 5  # Número de palabras principales a mostrar\n",
        "\n",
        "print(f\"Las {n_superior} palabras más frecuentes son:\")\n",
        "\n",
        "for palabra, cuenta in conteo_palabras.most_common(n_superior):\n",
        "    print(f\"{palabra}: {cuenta}\")\n"
      ],
      "metadata": {
        "colab": {
          "base_uri": "https://localhost:8080/"
        },
        "id": "EeXi_ip6Df1p",
        "outputId": "2b47684f-b415-48f7-a467-e8a2ba27a6e9"
      },
      "execution_count": null,
      "outputs": [
        {
          "output_type": "stream",
          "name": "stdout",
          "text": [
            "Ingresa un párrafo o un texto más largo: Este es un párrafo con algunas palabras repetidas. Igualmente, sirve como ejemplo que los inputs para los usuarios pueden ser bastante largos. Esperemos que podamos trabajar fácilmente con todo.\n",
            "Las 5 palabras más frecuentes son:\n",
            "con: 2\n",
            "que: 2\n",
            "los: 2\n",
            "este: 1\n",
            "es: 1\n"
          ]
        }
      ]
    }
  ]
}